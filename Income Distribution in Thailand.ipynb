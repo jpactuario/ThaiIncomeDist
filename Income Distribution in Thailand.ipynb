{
 "cells": [
  {
   "cell_type": "markdown",
   "metadata": {},
   "source": [
    "# Income Distribution in Thailand\n",
    "\n",
    "### Package Import"
   ]
  },
  {
   "cell_type": "code",
   "execution_count": 1,
   "metadata": {},
   "outputs": [],
   "source": [
    "import pandas as pd\n",
    "import numpy as np\n",
    "import matplotlib.pyplot as plt\n",
    "import matplotlib.ticker as ticker\n",
    "import matplotlib.patheffects as pe\n",
    "from sklearn.linear_model import LinearRegression\n",
    "pd.options.display.float_format = '{:,.2f}'.format"
   ]
  },
  {
   "cell_type": "code",
   "execution_count": 2,
   "metadata": {},
   "outputs": [],
   "source": [
    "# Visualization Default Settings\n",
    "\n",
    "params = {\"axes.spines.right\": False,\n",
    "          \"axes.spines.top\": False, \n",
    "          \"axes.spines.left\": False,\n",
    "          \"axes.spines.bottom\": False,\n",
    "          \"font.family\": \"Arial\",\n",
    "          \"axes.labelsize\": 12,\n",
    "          \"xtick.labelsize\": 12,\n",
    "          \"ytick.labelsize\": 12\n",
    "         }\n",
    "plt.rcParams.update(params)"
   ]
  },
  {
   "cell_type": "markdown",
   "metadata": {},
   "source": [
    "### Data Import and Preprocessing"
   ]
  },
  {
   "cell_type": "code",
   "execution_count": 3,
   "metadata": {},
   "outputs": [],
   "source": [
    "raw_data = pd.read_csv('data/TH_TaxIncomeBrackets.csv')\n",
    "raw_data = raw_data.apply(pd.to_numeric, downcast='float')\n",
    "raw_data = raw_data.rename(columns={'Tax_Units':'N'})\n",
    "raw_data['TotIncome'] = raw_data['Tot_Income_mil'] * 1000000\n",
    "raw_data['AvgIncome'] = raw_data['TotIncome'] / raw_data['N']\n",
    "raw_data['Income_Mid'] = (raw_data['Income_LB'] + raw_data['Income_UB']) / 2\n",
    "raw_data = raw_data.sort_values('Income_LB')"
   ]
  },
  {
   "cell_type": "markdown",
   "metadata": {},
   "source": [
    "* Add Percentile (aka CDF) for both TaxUnits and TotIncome"
   ]
  },
  {
   "cell_type": "code",
   "execution_count": 4,
   "metadata": {},
   "outputs": [],
   "source": [
    "cum_data = raw_data[['N', 'TotIncome']].cumsum()\n",
    "cum_data['Income_LB'] = raw_data['Income_LB']\n",
    "cum_data['CumN'] = cum_data['N'] / np.sum(raw_data['N'])\n",
    "cum_data['CumIncome'] = cum_data['TotIncome'] / np.sum(raw_data['TotIncome'])\n",
    "cum_data = cum_data[['Income_LB','CumN','CumIncome']]"
   ]
  },
  {
   "cell_type": "markdown",
   "metadata": {},
   "source": [
    "* Merging tables and adding previous levels for ease of processing"
   ]
  },
  {
   "cell_type": "code",
   "execution_count": 5,
   "metadata": {},
   "outputs": [
    {
     "data": {
      "text/html": [
       "<div>\n",
       "<style scoped>\n",
       "    .dataframe tbody tr th:only-of-type {\n",
       "        vertical-align: middle;\n",
       "    }\n",
       "\n",
       "    .dataframe tbody tr th {\n",
       "        vertical-align: top;\n",
       "    }\n",
       "\n",
       "    .dataframe thead th {\n",
       "        text-align: right;\n",
       "    }\n",
       "</style>\n",
       "<table border=\"1\" class=\"dataframe\">\n",
       "  <thead>\n",
       "    <tr style=\"text-align: right;\">\n",
       "      <th></th>\n",
       "      <th>Income_LB</th>\n",
       "      <th>Income_Mid</th>\n",
       "      <th>Income_UB</th>\n",
       "      <th>N</th>\n",
       "      <th>TotIncome</th>\n",
       "      <th>AvgIncome</th>\n",
       "      <th>CumN</th>\n",
       "      <th>CumIncome</th>\n",
       "      <th>CumN_prev</th>\n",
       "      <th>CumIncome_prev</th>\n",
       "    </tr>\n",
       "  </thead>\n",
       "  <tbody>\n",
       "    <tr>\n",
       "      <th>0</th>\n",
       "      <td>0.00</td>\n",
       "      <td>50,000.00</td>\n",
       "      <td>100,000.00</td>\n",
       "      <td>1,369,075.00</td>\n",
       "      <td>70,420,000,000.00</td>\n",
       "      <td>51,436.19</td>\n",
       "      <td>0.12</td>\n",
       "      <td>0.01</td>\n",
       "      <td>0.00</td>\n",
       "      <td>0.00</td>\n",
       "    </tr>\n",
       "    <tr>\n",
       "      <th>1</th>\n",
       "      <td>100,000.00</td>\n",
       "      <td>125,000.00</td>\n",
       "      <td>150,000.00</td>\n",
       "      <td>1,163,511.00</td>\n",
       "      <td>146,347,000,000.00</td>\n",
       "      <td>125,780.50</td>\n",
       "      <td>0.23</td>\n",
       "      <td>0.04</td>\n",
       "      <td>0.12</td>\n",
       "      <td>0.01</td>\n",
       "    </tr>\n",
       "    <tr>\n",
       "      <th>2</th>\n",
       "      <td>150,000.00</td>\n",
       "      <td>175,000.00</td>\n",
       "      <td>200,000.00</td>\n",
       "      <td>1,319,399.00</td>\n",
       "      <td>231,703,000,000.00</td>\n",
       "      <td>175,612.53</td>\n",
       "      <td>0.35</td>\n",
       "      <td>0.09</td>\n",
       "      <td>0.23</td>\n",
       "      <td>0.04</td>\n",
       "    </tr>\n",
       "    <tr>\n",
       "      <th>3</th>\n",
       "      <td>200,000.00</td>\n",
       "      <td>250,000.00</td>\n",
       "      <td>300,000.00</td>\n",
       "      <td>2,063,376.00</td>\n",
       "      <td>513,683,000,000.00</td>\n",
       "      <td>248,952.69</td>\n",
       "      <td>0.53</td>\n",
       "      <td>0.19</td>\n",
       "      <td>0.35</td>\n",
       "      <td>0.09</td>\n",
       "    </tr>\n",
       "    <tr>\n",
       "      <th>4</th>\n",
       "      <td>300,000.00</td>\n",
       "      <td>350,000.00</td>\n",
       "      <td>400,000.00</td>\n",
       "      <td>1,447,149.00</td>\n",
       "      <td>505,048,000,000.00</td>\n",
       "      <td>348,995.16</td>\n",
       "      <td>0.66</td>\n",
       "      <td>0.29</td>\n",
       "      <td>0.53</td>\n",
       "      <td>0.19</td>\n",
       "    </tr>\n",
       "    <tr>\n",
       "      <th>5</th>\n",
       "      <td>400,000.00</td>\n",
       "      <td>450,000.00</td>\n",
       "      <td>500,000.00</td>\n",
       "      <td>964,896.00</td>\n",
       "      <td>431,275,000,000.00</td>\n",
       "      <td>446,965.27</td>\n",
       "      <td>0.75</td>\n",
       "      <td>0.38</td>\n",
       "      <td>0.66</td>\n",
       "      <td>0.29</td>\n",
       "    </tr>\n",
       "    <tr>\n",
       "      <th>6</th>\n",
       "      <td>500,000.00</td>\n",
       "      <td>625,000.00</td>\n",
       "      <td>750,000.00</td>\n",
       "      <td>1,355,676.00</td>\n",
       "      <td>822,411,000,000.00</td>\n",
       "      <td>606,642.74</td>\n",
       "      <td>0.87</td>\n",
       "      <td>0.54</td>\n",
       "      <td>0.75</td>\n",
       "      <td>0.38</td>\n",
       "    </tr>\n",
       "    <tr>\n",
       "      <th>7</th>\n",
       "      <td>750,000.00</td>\n",
       "      <td>875,000.00</td>\n",
       "      <td>1,000,000.00</td>\n",
       "      <td>587,572.00</td>\n",
       "      <td>502,278,000,000.00</td>\n",
       "      <td>854,836.51</td>\n",
       "      <td>0.92</td>\n",
       "      <td>0.64</td>\n",
       "      <td>0.87</td>\n",
       "      <td>0.54</td>\n",
       "    </tr>\n",
       "    <tr>\n",
       "      <th>8</th>\n",
       "      <td>1,000,000.00</td>\n",
       "      <td>1,250,000.00</td>\n",
       "      <td>1,500,000.00</td>\n",
       "      <td>438,883.00</td>\n",
       "      <td>529,437,000,000.00</td>\n",
       "      <td>1,206,328.34</td>\n",
       "      <td>0.96</td>\n",
       "      <td>0.74</td>\n",
       "      <td>0.92</td>\n",
       "      <td>0.64</td>\n",
       "    </tr>\n",
       "    <tr>\n",
       "      <th>9</th>\n",
       "      <td>1,500,000.00</td>\n",
       "      <td>1,750,000.00</td>\n",
       "      <td>2,000,000.00</td>\n",
       "      <td>175,204.00</td>\n",
       "      <td>299,431,000,000.00</td>\n",
       "      <td>1,709,042.03</td>\n",
       "      <td>0.98</td>\n",
       "      <td>0.80</td>\n",
       "      <td>0.96</td>\n",
       "      <td>0.74</td>\n",
       "    </tr>\n",
       "    <tr>\n",
       "      <th>10</th>\n",
       "      <td>2,000,000.00</td>\n",
       "      <td>2,500,000.00</td>\n",
       "      <td>3,000,000.00</td>\n",
       "      <td>111,955.00</td>\n",
       "      <td>267,935,000,000.00</td>\n",
       "      <td>2,393,238.35</td>\n",
       "      <td>0.99</td>\n",
       "      <td>0.86</td>\n",
       "      <td>0.98</td>\n",
       "      <td>0.80</td>\n",
       "    </tr>\n",
       "    <tr>\n",
       "      <th>11</th>\n",
       "      <td>3,000,000.00</td>\n",
       "      <td>3,500,000.00</td>\n",
       "      <td>4,000,000.00</td>\n",
       "      <td>44,502.00</td>\n",
       "      <td>152,468,000,000.00</td>\n",
       "      <td>3,426,093.21</td>\n",
       "      <td>0.99</td>\n",
       "      <td>0.89</td>\n",
       "      <td>0.99</td>\n",
       "      <td>0.86</td>\n",
       "    </tr>\n",
       "    <tr>\n",
       "      <th>12</th>\n",
       "      <td>4,000,000.00</td>\n",
       "      <td>4,500,000.00</td>\n",
       "      <td>5,000,000.00</td>\n",
       "      <td>24,133.00</td>\n",
       "      <td>107,090,000,000.00</td>\n",
       "      <td>4,437,492.23</td>\n",
       "      <td>1.00</td>\n",
       "      <td>0.91</td>\n",
       "      <td>0.99</td>\n",
       "      <td>0.89</td>\n",
       "    </tr>\n",
       "    <tr>\n",
       "      <th>13</th>\n",
       "      <td>5,000,000.00</td>\n",
       "      <td>5,500,000.00</td>\n",
       "      <td>6,000,000.00</td>\n",
       "      <td>14,340.00</td>\n",
       "      <td>77,722,000,000.00</td>\n",
       "      <td>5,419,944.21</td>\n",
       "      <td>1.00</td>\n",
       "      <td>0.92</td>\n",
       "      <td>1.00</td>\n",
       "      <td>0.91</td>\n",
       "    </tr>\n",
       "    <tr>\n",
       "      <th>14</th>\n",
       "      <td>6,000,000.00</td>\n",
       "      <td>6,500,000.00</td>\n",
       "      <td>7,000,000.00</td>\n",
       "      <td>9,160.00</td>\n",
       "      <td>58,262,000,000.00</td>\n",
       "      <td>6,360,480.35</td>\n",
       "      <td>1.00</td>\n",
       "      <td>0.93</td>\n",
       "      <td>1.00</td>\n",
       "      <td>0.92</td>\n",
       "    </tr>\n",
       "    <tr>\n",
       "      <th>15</th>\n",
       "      <td>7,000,000.00</td>\n",
       "      <td>7,500,000.00</td>\n",
       "      <td>8,000,000.00</td>\n",
       "      <td>6,119.00</td>\n",
       "      <td>45,178,000,000.00</td>\n",
       "      <td>7,383,232.55</td>\n",
       "      <td>1.00</td>\n",
       "      <td>0.94</td>\n",
       "      <td>1.00</td>\n",
       "      <td>0.93</td>\n",
       "    </tr>\n",
       "    <tr>\n",
       "      <th>16</th>\n",
       "      <td>8,000,000.00</td>\n",
       "      <td>8,500,000.00</td>\n",
       "      <td>9,000,000.00</td>\n",
       "      <td>4,117.00</td>\n",
       "      <td>34,260,000,000.00</td>\n",
       "      <td>8,321,593.39</td>\n",
       "      <td>1.00</td>\n",
       "      <td>0.95</td>\n",
       "      <td>1.00</td>\n",
       "      <td>0.94</td>\n",
       "    </tr>\n",
       "    <tr>\n",
       "      <th>17</th>\n",
       "      <td>9,000,000.00</td>\n",
       "      <td>9,500,000.00</td>\n",
       "      <td>10,000,000.00</td>\n",
       "      <td>2,863.00</td>\n",
       "      <td>26,720,000,000.00</td>\n",
       "      <td>9,332,867.62</td>\n",
       "      <td>1.00</td>\n",
       "      <td>0.95</td>\n",
       "      <td>1.00</td>\n",
       "      <td>0.95</td>\n",
       "    </tr>\n",
       "    <tr>\n",
       "      <th>18</th>\n",
       "      <td>10,000,000.00</td>\n",
       "      <td>12,500,000.00</td>\n",
       "      <td>15,000,000.00</td>\n",
       "      <td>5,975.00</td>\n",
       "      <td>70,100,000,000.00</td>\n",
       "      <td>11,732,217.57</td>\n",
       "      <td>1.00</td>\n",
       "      <td>0.97</td>\n",
       "      <td>1.00</td>\n",
       "      <td>0.95</td>\n",
       "    </tr>\n",
       "    <tr>\n",
       "      <th>19</th>\n",
       "      <td>15,000,000.00</td>\n",
       "      <td>17,500,000.00</td>\n",
       "      <td>20,000,000.00</td>\n",
       "      <td>2,122.00</td>\n",
       "      <td>35,794,000,000.00</td>\n",
       "      <td>16,868,049.01</td>\n",
       "      <td>1.00</td>\n",
       "      <td>0.98</td>\n",
       "      <td>1.00</td>\n",
       "      <td>0.97</td>\n",
       "    </tr>\n",
       "    <tr>\n",
       "      <th>20</th>\n",
       "      <td>20,000,000.00</td>\n",
       "      <td>inf</td>\n",
       "      <td>inf</td>\n",
       "      <td>2,883.00</td>\n",
       "      <td>124,239,000,000.00</td>\n",
       "      <td>43,093,652.45</td>\n",
       "      <td>1.00</td>\n",
       "      <td>1.00</td>\n",
       "      <td>1.00</td>\n",
       "      <td>0.98</td>\n",
       "    </tr>\n",
       "  </tbody>\n",
       "</table>\n",
       "</div>"
      ],
      "text/plain": [
       "       Income_LB    Income_Mid     Income_UB            N          TotIncome  \\\n",
       "0           0.00     50,000.00    100,000.00 1,369,075.00  70,420,000,000.00   \n",
       "1     100,000.00    125,000.00    150,000.00 1,163,511.00 146,347,000,000.00   \n",
       "2     150,000.00    175,000.00    200,000.00 1,319,399.00 231,703,000,000.00   \n",
       "3     200,000.00    250,000.00    300,000.00 2,063,376.00 513,683,000,000.00   \n",
       "4     300,000.00    350,000.00    400,000.00 1,447,149.00 505,048,000,000.00   \n",
       "5     400,000.00    450,000.00    500,000.00   964,896.00 431,275,000,000.00   \n",
       "6     500,000.00    625,000.00    750,000.00 1,355,676.00 822,411,000,000.00   \n",
       "7     750,000.00    875,000.00  1,000,000.00   587,572.00 502,278,000,000.00   \n",
       "8   1,000,000.00  1,250,000.00  1,500,000.00   438,883.00 529,437,000,000.00   \n",
       "9   1,500,000.00  1,750,000.00  2,000,000.00   175,204.00 299,431,000,000.00   \n",
       "10  2,000,000.00  2,500,000.00  3,000,000.00   111,955.00 267,935,000,000.00   \n",
       "11  3,000,000.00  3,500,000.00  4,000,000.00    44,502.00 152,468,000,000.00   \n",
       "12  4,000,000.00  4,500,000.00  5,000,000.00    24,133.00 107,090,000,000.00   \n",
       "13  5,000,000.00  5,500,000.00  6,000,000.00    14,340.00  77,722,000,000.00   \n",
       "14  6,000,000.00  6,500,000.00  7,000,000.00     9,160.00  58,262,000,000.00   \n",
       "15  7,000,000.00  7,500,000.00  8,000,000.00     6,119.00  45,178,000,000.00   \n",
       "16  8,000,000.00  8,500,000.00  9,000,000.00     4,117.00  34,260,000,000.00   \n",
       "17  9,000,000.00  9,500,000.00 10,000,000.00     2,863.00  26,720,000,000.00   \n",
       "18 10,000,000.00 12,500,000.00 15,000,000.00     5,975.00  70,100,000,000.00   \n",
       "19 15,000,000.00 17,500,000.00 20,000,000.00     2,122.00  35,794,000,000.00   \n",
       "20 20,000,000.00           inf           inf     2,883.00 124,239,000,000.00   \n",
       "\n",
       "       AvgIncome  CumN  CumIncome  CumN_prev  CumIncome_prev  \n",
       "0      51,436.19  0.12       0.01       0.00            0.00  \n",
       "1     125,780.50  0.23       0.04       0.12            0.01  \n",
       "2     175,612.53  0.35       0.09       0.23            0.04  \n",
       "3     248,952.69  0.53       0.19       0.35            0.09  \n",
       "4     348,995.16  0.66       0.29       0.53            0.19  \n",
       "5     446,965.27  0.75       0.38       0.66            0.29  \n",
       "6     606,642.74  0.87       0.54       0.75            0.38  \n",
       "7     854,836.51  0.92       0.64       0.87            0.54  \n",
       "8   1,206,328.34  0.96       0.74       0.92            0.64  \n",
       "9   1,709,042.03  0.98       0.80       0.96            0.74  \n",
       "10  2,393,238.35  0.99       0.86       0.98            0.80  \n",
       "11  3,426,093.21  0.99       0.89       0.99            0.86  \n",
       "12  4,437,492.23  1.00       0.91       0.99            0.89  \n",
       "13  5,419,944.21  1.00       0.92       1.00            0.91  \n",
       "14  6,360,480.35  1.00       0.93       1.00            0.92  \n",
       "15  7,383,232.55  1.00       0.94       1.00            0.93  \n",
       "16  8,321,593.39  1.00       0.95       1.00            0.94  \n",
       "17  9,332,867.62  1.00       0.95       1.00            0.95  \n",
       "18 11,732,217.57  1.00       0.97       1.00            0.95  \n",
       "19 16,868,049.01  1.00       0.98       1.00            0.97  \n",
       "20 43,093,652.45  1.00       1.00       1.00            0.98  "
      ]
     },
     "execution_count": 5,
     "metadata": {},
     "output_type": "execute_result"
    }
   ],
   "source": [
    "fin_data = raw_data[['Income_LB', 'Income_Mid', 'Income_UB', 'N', 'TotIncome', 'AvgIncome']].merge(cum_data, how='left', on='Income_LB')\n",
    "# Add previous values\n",
    "fin_data = fin_data.assign(CumN_prev = fin_data['CumN'].shift(1, fill_value=0),\n",
    "                           CumIncome_prev = fin_data['CumIncome'].shift(1, fill_value=0))\n",
    "# Replace unbounded income bracket upperbound by infinity to prevent accidental mishandling\n",
    "fin_data.loc[20, 'Income_Mid'] = np.inf\n",
    "fin_data.loc[20, 'Income_UB'] = np.inf\n",
    "fin_data"
   ]
  },
  {
   "cell_type": "markdown",
   "metadata": {},
   "source": [
    "### Income Distribution\n",
    "\n",
    "#### Where does the skewness begin?\n",
    "\n",
    "Within each income bracket, the mean and the midpoint of the bracket would be close to each other if the income is uniformly distributed within that bracket. However, income at a high level normally does not distribute uniformly and usually follows the right-skewed Pareto distribution family. \n",
    "\n",
    "By calculating the ratio of mean to midpoint (both offset by the lower bound), we can visually identify the breakpoint where the uniform distribution ends and the long-tailed Pareto distribution begins."
   ]
  },
  {
   "cell_type": "code",
   "execution_count": 6,
   "metadata": {},
   "outputs": [],
   "source": [
    "# Last income bracket has no midpoint and has to be excluded.\n",
    "mid_point = np.array(fin_data['Income_Mid'])[:-1]\n",
    "avg_inc = np.array(fin_data['AvgIncome'])[:-1]\n",
    "lb = np.array(fin_data['Income_LB'])[:-1]\n",
    "\n",
    "# Distance of Mean to Distance of Mid Point from Lower Bound\n",
    "ratio = (avg_inc - lb) / (mid_point - lb)"
   ]
  },
  {
   "cell_type": "code",
   "execution_count": 7,
   "metadata": {
    "scrolled": true
   },
   "outputs": [
    {
     "data": {
      "image/png": "[encoded data removed]",
      "text/plain": [
       "<Figure size 576x432 with 1 Axes>"
      ]
     },
     "metadata": {
      "needs_background": "light"
     },
     "output_type": "display_data"
    }
   ],
   "source": [
    "c = '#657aff'\n",
    "\n",
    "fig, ax = plt.subplots(figsize=(8,6))\n",
    "ax.axhline(1, color='0.7', linewidth=1)\n",
    "ax.plot(mid_point, ratio, color=c, linewidth=2, path_effects=[pe.Stroke(linewidth=5, foreground='w'), pe.Normal()])\n",
    "ax.plot(mid_point, ratio, 'o', color=c)\n",
    "\n",
    "ax.annotate(\" Conforms with Uniform Dist \", (3000000, 1.00), fontsize=11, color='0.3', ha='center', va='center', bbox={'facecolor':'w', 'edgecolor':'w'})\n",
    "ax.annotate(\"Skews to the left\", (3000000, 1.05), fontsize=11, color='0.3', ha='center', va='center')\n",
    "ax.annotate(\"Skews to the right\", (3000000, 0.95), fontsize=11, color='0.3', ha='center', va='center')\n",
    "\n",
    "ax.annotate(\"Income Bracket 500,000 to 750,000\", xy=(630000, 0.85), xytext=(350000, 0.78), \n",
    "            ha='center', color='0.4', weight='bold',\n",
    "            arrowprops={\"arrowstyle\":\"->\", \"color\":'0.4', \"linewidth\":2}\n",
    "           )\n",
    "\n",
    "ax.set_xscale('log')\n",
    "ax.set_xticks([100000, 1000000, 10000000])\n",
    "ax.set_xticklabels(['100,000', '1,000,000', '10,000,000'])\n",
    "\n",
    "\n",
    "ax.set_xlabel('Income Bracket (THB)')\n",
    "ax.set_ylabel('Mean-to-Midpoint Ratio', rotation=0, ha='left', position=(0,1.05))\n",
    "\n",
    "#plt.title(\"Uniform Distribution doesn't fit well from Income Bracket of 500,000 onwards\", fontsize=16, y=1.12)\n",
    "\n",
    "plt.show()\n",
    "fig.savefig('output/skewness.jpg', bbox_inches='tight', dpi=300)"
   ]
  },
  {
   "cell_type": "markdown",
   "metadata": {},
   "source": [
    "The skewness appears to begin at the income bracket [500k, 750k].\n",
    "\n",
    "We therefore select 500,000 as the threshold."
   ]
  },
  {
   "cell_type": "code",
   "execution_count": 8,
   "metadata": {},
   "outputs": [],
   "source": [
    "pareto_threshold = 500000\n",
    "high_income_data = fin_data.query('Income_LB >= @pareto_threshold')\n",
    "low_income_data = fin_data.query('Income_LB < @pareto_threshold')"
   ]
  },
  {
   "cell_type": "markdown",
   "metadata": {},
   "source": [
    "#### Fitting Pareto Distribution\n",
    "\n",
    "Since the CDF or $F(x)$ of a Pareto distribution is $1 - \\bigg(\\frac{x_m}{x}\\bigg)^\\alpha$, it follows that,\n",
    "\n",
    "$\\log(1 - F(x)) = \\log(S(x)) = \\alpha \\log(x_m) - \\alpha \\log(x) = a \\log(x) + b$\n",
    "\n",
    "The alpha can then be estimated from the slope of the linear regression of $\\log(S(X))$ against $\\log(X)$"
   ]
  },
  {
   "cell_type": "code",
   "execution_count": 9,
   "metadata": {},
   "outputs": [
    {
     "name": "stdout",
     "output_type": "stream",
     "text": [
      "The estimate of alpha is 1.8341\n"
     ]
    }
   ],
   "source": [
    "S = np.array(1.00 - high_income_data['CumN'])[:-1]  # Remove the unbounded bracket (last row) since LOG(0) is undefined.\n",
    "logS = np.log(S)\n",
    "logX = np.log(np.array(high_income_data['AvgIncome']))[:-1]\n",
    "\n",
    "reg = LinearRegression(fit_intercept=True).fit(logX.reshape(-1,1), logS)\n",
    "alpha = -reg.coef_[0]\n",
    "print('The estimate of alpha is %.4f' % alpha)"
   ]
  },
  {
   "cell_type": "code",
   "execution_count": 10,
   "metadata": {},
   "outputs": [],
   "source": [
    "# Prepare the fitted lines data\n",
    "fit_X = np.linspace(np.min(logX)*0.995, np.max(logX)*1.005, 100)\n",
    "fit_Y = reg.predict(fit_X.reshape(-1,1))"
   ]
  },
  {
   "cell_type": "code",
   "execution_count": 11,
   "metadata": {},
   "outputs": [
    {
     "data": {
      "image/png": "[encoded data removed]",
      "text/plain": [
       "<Figure size 576x432 with 1 Axes>"
      ]
     },
     "metadata": {
      "needs_background": "light"
     },
     "output_type": "display_data"
    }
   ],
   "source": [
    "c = '#657aff'\n",
    "\n",
    "fig, ax = plt.subplots(figsize=(8,6))\n",
    "ax.plot(high_income_data['AvgIncome'], 1-high_income_data['CumN'], 'o', color=c)\n",
    "ax.plot(np.exp(fit_X), np.exp(fit_Y), color=c, linestyle='--', alpha=0.5)\n",
    "\n",
    "ax.annotate(\"Slope = -1.8341\", xy=(2000000, 0.015), xytext=(1500000, 0.006), \n",
    "            ha='center',va='top', color='0.4', weight='bold',\n",
    "            arrowprops={\"arrowstyle\":\"->\", \"color\":'0.4', \"linewidth\":2}\n",
    "           )\n",
    "\n",
    "\n",
    "ax.set_xscale('log')\n",
    "ax.set_xticks([500000, 1000000, 10000000])\n",
    "ax.set_xticklabels(['500,000', '1,000,000', '10,000,000'])\n",
    "ax.set_xlim((500000, 20000000))\n",
    "\n",
    "\n",
    "ax.set_yscale('log')\n",
    "\n",
    "ax.set_xlabel('Income Bracket (THB)')\n",
    "ax.set_ylabel('Top x% of Population', rotation=0, ha='left', position=(0,1))\n",
    "\n",
    "ax.yaxis.set_major_formatter(ticker.PercentFormatter(xmax=1))\n",
    "\n",
    "plt.show()\n",
    "fig.savefig('output/pareto_alpha.jpg', bbox_inches='tight', dpi=300)"
   ]
  },
  {
   "cell_type": "markdown",
   "metadata": {},
   "source": [
    "* Sense Check\n",
    "\n",
    "Visually, the distribution appears to fit the data well. As a sense check, we will also compare the fitted mean against the sample mean.\n",
    "\n",
    "Expected value of a Pareto distribution with support from $[x_m, \\infty)$ is $\\displaystyle \\frac{\\alpha x_m}{\\alpha-1}$. Here $x_m$ is chosen to be 500,000.\n",
    "\n",
    "The fitted mean is"
   ]
  },
  {
   "cell_type": "code",
   "execution_count": 12,
   "metadata": {},
   "outputs": [
    {
     "name": "stdout",
     "output_type": "stream",
     "text": [
      "1099420\n"
     ]
    }
   ],
   "source": [
    "print('%i' %(alpha / (alpha - 1) * pareto_threshold))"
   ]
  },
  {
   "cell_type": "markdown",
   "metadata": {},
   "source": [
    "The sample mean is"
   ]
  },
  {
   "cell_type": "code",
   "execution_count": 13,
   "metadata": {},
   "outputs": [
    {
     "name": "stdout",
     "output_type": "stream",
     "text": [
      "1132048\n"
     ]
    }
   ],
   "source": [
    "print('%i' % int(np.sum(high_income_data['TotIncome']) / np.sum(high_income_data['N'])))"
   ]
  },
  {
   "cell_type": "markdown",
   "metadata": {},
   "source": [
    "If we exclude the last income bracket, the sample mean is"
   ]
  },
  {
   "cell_type": "code",
   "execution_count": 14,
   "metadata": {},
   "outputs": [
    {
     "name": "stdout",
     "output_type": "stream",
     "text": [
      "1088572\n"
     ]
    }
   ],
   "source": [
    "print('%i' % int(np.sum(np.array(high_income_data['TotIncome'])[:-1]) / np.sum(np.array(high_income_data['N'])[:-1])))"
   ]
  },
  {
   "cell_type": "markdown",
   "metadata": {},
   "source": [
    "The discrepancy is assumed to be within the acceptable degree of accuracy."
   ]
  },
  {
   "cell_type": "markdown",
   "metadata": {},
   "source": [
    "#### Upper Bound of Distribution\n",
    "\n",
    "Support of a Pareto distribution is unbounded; however, in reality, there must be an upper bound to the annual income.\n",
    "\n",
    "Based on the population size,\n",
    "\n",
    "```np.sum(fin_data['N']) = 11112910```\n",
    "\n",
    "the highest income earner would be placed at percentile $99.999991$th $(= 1 - 1 / 11112910)$\n",
    "\n",
    "Based on the fitted Pareto distribution, this would correspond to income $x_u$ which satisfies:\n",
    "\n",
    "$F(500000) + (1 - F(500000))(1 - (500000 / x_u)^\\alpha) = (1 - 1 / N)$\n",
    "\n",
    "This works out to be $x_u =$ 1,632,408,146 or about 1.6 billion THB annually or 135 million THB monthly.\n",
    "\n",
    "Code: ```np.exp(np.log(pareto_threshold) - np.log(1-(1-1/np.sum(fin_data['N']) - border_CDF)/(1-border_CDF))/alpha)``` where border_CDF represents F(500000)\n",
    "\n",
    "By the same logic, the second highest earner is estimated to have an annual income of 1,118,671,717.\n",
    "\n",
    "In order to avoid false precision, income above 1.2 billion will be capped."
   ]
  },
  {
   "cell_type": "markdown",
   "metadata": {},
   "source": [
    "## Defining Full Distribution\n",
    "\n",
    "### Income Distribution\n",
    "\n",
    "* **Percentiles and Income Shares of income below 500,000** are estimated based on the empirical distribution assuming uniform distribution within each bracket. Based on this, percentile can be estimated by linear interpolation but not the income share, which we must use conditional expectation to calculate (see the Section below).\n",
    "\n",
    "* **Percentiles and Income Shares of income above 500,000** are estimated using the Pareto distribution. Both the percentile and income share can be algebraically solved and have closed-form solutions. As an implication, the estimated percentile and income share at the income brackets’ boundaries do not exactly match the empirical distribution; however, the discrepancy is not material.\n"
   ]
  },
  {
   "cell_type": "code",
   "execution_count": 15,
   "metadata": {},
   "outputs": [],
   "source": [
    "border_CDF = np.array(high_income_data['CumN_prev'])[0]  # F(500,000)\n",
    "upper_cap = 1200000000\n",
    "\n",
    "def findPercentile(annual):\n",
    "    # Corner Cases\n",
    "    if annual <= 0:\n",
    "        return 0\n",
    "    elif annual >= pareto_threshold:\n",
    "        # Apply Pareto Distribution\n",
    "        if annual > upper_cap:\n",
    "            annual == upper_cap\n",
    "        return border_CDF + (1 - border_CDF) * (1 - (pareto_threshold / annual) ** alpha)\n",
    "    else:\n",
    "        # Linear Interpolation within the corresponding Income Bracket\n",
    "        return linearInt(annual)\n",
    "    \n",
    "def linearInt(annual):\n",
    "    filter_data = low_income_data.query('Income_LB < @annual & Income_UB >= @annual').to_dict('list')\n",
    "    lb = filter_data['Income_LB'][0]\n",
    "    ub = filter_data['Income_UB'][0]\n",
    "    lb_cdf = filter_data['CumN_prev'][0]\n",
    "    ub_cdf = filter_data['CumN'][0]\n",
    "    return lb_cdf + (annual - lb) / (ub - lb) * (ub_cdf - lb_cdf)"
   ]
  },
  {
   "cell_type": "code",
   "execution_count": 16,
   "metadata": {},
   "outputs": [],
   "source": [
    "# Calculate the CDF for the whole range of income\n",
    "income_range = np.logspace(3, 9.08, 1000)\n",
    "income_CDF = np.array([findPercentile(income) for income in income_range])"
   ]
  },
  {
   "cell_type": "markdown",
   "metadata": {},
   "source": [
    "### Income Share Calculation\n",
    "\n",
    "* For annual income below the Pareto threshold\n",
    "\n",
    "Given income $x$ which falls within the bracket $[x_l, x_u]$ with corresponding CDF of $[F(x_l), F(x_u)]$ and corresponding empirical income share of $[\\pi_l, \\pi_u]$, assuming uniform distribution, share of total income for people who earn $x$ or less is:\n",
    "\n",
    "$\\displaystyle \\pi_l + \\frac{E[X \\le x|x_l \\le X \\le x_u]}{E[X|x_l \\le X \\le x_u]}(\\pi_u - \\pi_l)$\n",
    "\n",
    "Which is equal to:\n",
    "\n",
    "$\\displaystyle \\pi_l + \\frac{(F(x) - F(x_l))(x + x_l)}{(F(x_u) - F(x_l))(x_u + x_l)}(\\pi_u - \\pi_l)$\n",
    "\n",
    "* For annual income above the Pareto threshold\n",
    "\n",
    "Using the property that conditional mean of Pareto distribution above a new threshold $x_n > x_m$ is $\\displaystyle \\frac{\\alpha x_n}{\\alpha-1}$, the share of income to people who earn $x_n$ or less when $x_n > x_m = 500000$ is:\n",
    "\n",
    "$\\displaystyle \\pi_{x_m} + (1 - \\pi_{x_m})\\Bigg[1 - \\frac{E[X \\ge x_n | X \\ge x_m]}{E[X | X \\ge x_m]}\\Bigg] = \n",
    "\\pi_{x_m} + (1 - \\pi_{x_m})\\Bigg[1-\\Bigg(\\frac{x_m}{x_n}\\Bigg)^{\\alpha - 1}\\Bigg]$\n",
    "\n",
    "Since $E[X \\ge x_n | X \\ge x_m] = E[X \\ge x_n | X \\ge x_n]\\Pr(X \\ge x_n | X \\ge x_m)$, for a Pareto distribution, this becomes $\\displaystyle \\frac{\\alpha x_n}{\\alpha-1} \\Bigg(\\frac{x_m}{x_n}\\Bigg)^\\alpha$."
   ]
  },
  {
   "cell_type": "code",
   "execution_count": 17,
   "metadata": {},
   "outputs": [],
   "source": [
    "border_IncShare = np.array(high_income_data['CumIncome_prev'])[0]  # F(500,000)\n",
    "\n",
    "def findIncomeShareBelow(annual):\n",
    "    if annual <= 0:\n",
    "        return 0\n",
    "    elif annual >= pareto_threshold:\n",
    "        return border_IncShare + (1 - border_IncShare) * (1 - (pareto_threshold / annual)**(alpha - 1))\n",
    "    else:\n",
    "        return linearIncShare(annual)\n",
    "\n",
    "def linearIncShare(annual):\n",
    "    filter_data = low_income_data.query('Income_LB < @annual & Income_UB >= @annual').to_dict('list')\n",
    "    lb = filter_data['Income_LB'][0]\n",
    "    ub = filter_data['Income_UB'][0]\n",
    "    lb_cdf = filter_data['CumN_prev'][0]\n",
    "    ub_cdf = filter_data['CumN'][0]\n",
    "    lb_share = filter_data['CumIncome_prev'][0]\n",
    "    ub_share = filter_data['CumIncome'][0]\n",
    "    \n",
    "    return lb_share + (linearInt(annual) - lb_cdf) * (annual + lb) * (ub_share - lb_share) / ((ub_cdf - lb_cdf) * (lb + ub))"
   ]
  },
  {
   "cell_type": "code",
   "execution_count": 18,
   "metadata": {},
   "outputs": [],
   "source": [
    "# Calculate the Income Share for the previously established range\n",
    "income_shareBelow = np.array([findIncomeShareBelow(income) for income in income_range])"
   ]
  },
  {
   "cell_type": "markdown",
   "metadata": {},
   "source": [
    "## Main Figures - Visualization\n",
    "\n",
    "### Income Percentile (CDF)\n",
    "\n",
    "Note:\n",
    "\n",
    "25th percentile = 159,310\n",
    "\n",
    "50th percentile = 282,610\n",
    "\n",
    "75th percentile = 500,720"
   ]
  },
  {
   "cell_type": "code",
   "execution_count": 19,
   "metadata": {
    "scrolled": false
   },
   "outputs": [
    {
     "data": {
      "image/png": "[encoded data removed]",
      "text/plain": [
       "<Figure size 576x432 with 1 Axes>"
      ]
     },
     "metadata": {
      "needs_background": "light"
     },
     "output_type": "display_data"
    }
   ],
   "source": [
    "highlights = [(159310, 0.25, 'Annual = 159k (Monthly = 13.3k)'), \n",
    "              (282610, 0.50, 'Annual = 283k (Monthly = 23.6k)'), \n",
    "              (500720, 0.75, 'Annual = 500k (Monthly = 41.7k)')]\n",
    "\n",
    "c = '#657aff'\n",
    "\n",
    "fig, ax = plt.subplots(figsize=(8,6))\n",
    "ax.plot(income_range, income_CDF, color=c)\n",
    "ax.set_xscale('log')\n",
    "ax.set_yscale('linear')\n",
    "ax.set_xticks([1000, 10000, 100000, 1000000, 10000000])\n",
    "ax.set_xticklabels(['1,000', '10,000', '100,000', '1,000,000', '10,000,000'])\n",
    "ax.set_yticks([0.01, 0.25, 0.5, 0.75, 0.99])\n",
    "ax.set_yticklabels(['1st','25th','Median - 50th', '75th', '99th'])\n",
    "\n",
    "ax.set_xlim((800, 50000000))\n",
    "ax.set_ylim((0, 1.01))\n",
    "ax.set_xlabel('Annual Income (THB)', labelpad=12)\n",
    "ax.set_ylabel(' Income Percentile', rotation=0, ha='left', position=(0,1.05))\n",
    "\n",
    "for (x,y,t) in highlights:\n",
    "    ax.plot([0, x], [y, y], '0.8', lw=1)\n",
    "    ax.plot([x, x], [0, y], '0.8', lw=1)\n",
    "    ax.plot([x],[y],'o',color=c)\n",
    "    ax.annotate(t, xy=(x,y), xycoords='data', \n",
    "                xytext=(-4,0), textcoords='offset points', \n",
    "                color='0.4', ha='right', va='bottom', fontsize=12)\n",
    "\n",
    "#plt.title('Income Distribution in Thailand', fontsize=16, y=1.1)\n",
    "plt.show()\n",
    "\n",
    "fig.savefig('output/CDF.jpg', bbox_inches='tight', dpi=300)"
   ]
  },
  {
   "cell_type": "markdown",
   "metadata": {},
   "source": [
    "## Lorenz Curve - Income Inequality\n",
    "\n",
    "Lorenz Curve is a graph showing the proportion of overall income or wealth assumed by the bottom x% of the population.\n",
    "\n",
    "As a sense check, we will first confirm that the fitted curve is in line with the empirical curve."
   ]
  },
  {
   "cell_type": "code",
   "execution_count": 20,
   "metadata": {},
   "outputs": [],
   "source": [
    "lorenz_x = np.append([0],fin_data['CumN'])\n",
    "lorenz_y = np.append([0],fin_data['CumIncome'])"
   ]
  },
  {
   "cell_type": "code",
   "execution_count": 21,
   "metadata": {},
   "outputs": [
    {
     "data": {
      "image/png": "[encoded data removed]",
      "text/plain": [
       "<Figure size 432x288 with 1 Axes>"
      ]
     },
     "metadata": {
      "needs_background": "light"
     },
     "output_type": "display_data"
    }
   ],
   "source": [
    "fig, ax = plt.subplots()\n",
    "ax.plot(income_CDF, income_shareBelow, label='Fitted')\n",
    "ax.plot(lorenz_x, lorenz_y, label='Sample')\n",
    "ax.legend()\n",
    "plt.show()"
   ]
  },
  {
   "cell_type": "markdown",
   "metadata": {},
   "source": [
    "It appears that the fitted curve is in line with the empirical curve. We will then rely on the fitted curve."
   ]
  },
  {
   "cell_type": "markdown",
   "metadata": {},
   "source": [
    "* Calculation of Gini\n",
    "\n",
    "This calculation assumes a linear interpolation between observed values. \n",
    "Due to the convex nature of Lorenz curve, the Gini coefficient calculated using a smooth curve would result in a higher Gini estimate.\n",
    "Therefore, it's better to use the fitted curve than the empirical curve."
   ]
  },
  {
   "cell_type": "code",
   "execution_count": 22,
   "metadata": {},
   "outputs": [
    {
     "name": "stdout",
     "output_type": "stream",
     "text": [
      "Estimated Gini Coefficient: 0.5213\n"
     ]
    }
   ],
   "source": [
    "gini = 0\n",
    "for i in range(len(income_CDF) - 1):\n",
    "    gini += ((income_CDF[i+1] - income_shareBelow[i+1]) + (income_CDF[i] - income_shareBelow[i])) * (income_CDF[i+1] - income_CDF[i])\n",
    "print('Estimated Gini Coefficient: %.4f' % gini)"
   ]
  },
  {
   "cell_type": "markdown",
   "metadata": {},
   "source": [
    "* Visualization"
   ]
  },
  {
   "cell_type": "code",
   "execution_count": 23,
   "metadata": {
    "scrolled": true
   },
   "outputs": [
    {
     "data": {
      "image/png": "[encoded data removed]",
      "text/plain": [
       "<Figure size 576x432 with 1 Axes>"
      ]
     },
     "metadata": {
      "needs_background": "light"
     },
     "output_type": "display_data"
    }
   ],
   "source": [
    "highlights = [(0.25, 0.05), (0.50, 0.17), (0.75, 0.38)]\n",
    "\n",
    "c = '#657aff'\n",
    "c_light = '#e0e0ff'\n",
    "c_dark = '#b2b2ff'\n",
    "\n",
    "fig, ax = plt.subplots(figsize=(8,6))\n",
    "\n",
    "for (x,y) in highlights:\n",
    "    ax.plot([0, x], [y, y], '0.8', lw=1)\n",
    "    ax.plot([x],[y],'o', color=c)\n",
    "\n",
    "ax.plot(income_CDF, income_shareBelow, color=c, linewidth=3)\n",
    "ax.plot([0,1],[0,1],'0.8',linestyle='--')\n",
    "\n",
    "ax.set_axisbelow(True)\n",
    "#ax.grid(axis='y')\n",
    "ax.tick_params(axis='both', color='0.7')\n",
    "\n",
    "\n",
    "ax.fill_between(income_CDF, income_shareBelow, income_CDF, where=(income_CDF >= income_shareBelow), color=c_light, alpha=0.5)\n",
    "ax.fill_between(income_CDF, income_shareBelow, 0, where=(income_shareBelow >= 0), color=c_dark)\n",
    "ax.set_xlabel('Income Percentile (Bottom X% of Population)', labelpad=12)\n",
    "ax.set_ylabel(' Cumulative Income Share', rotation=0, ha='left', position=(0,1.05))\n",
    "\n",
    "ax.set_xticks([0.00, 0.25, 0.50, 0.75, 1.00])\n",
    "ax.set_xticklabels(['0%', '25%', '50%\\n(Median)', '75%', '100%'])\n",
    "ax.set_yticks([0.05, 0.17, 0.25, 0.38, 0.5, 0.75, 1.00])\n",
    "ax.get_yticklabels()[0].set_color('0.4')\n",
    "ax.get_yticklabels()[1].set_color('0.4')\n",
    "ax.get_yticklabels()[3].set_color('0.4')\n",
    "\n",
    "ax.set_xlim((0,1.01))\n",
    "ax.set_ylim((0,1.01))\n",
    "\n",
    "\n",
    "#ax.xaxis.set_major_formatter(ticker.PercentFormatter(xmax=1))\n",
    "ax.yaxis.set_major_formatter(ticker.PercentFormatter(xmax=1))\n",
    "\n",
    "ax.annotate('Perfect Equality', (0.68, 0.72), color='0.3', ha='right', fontsize=13)\n",
    "ax.annotate(\"Thailand's Inequality\\nGini = %.2f\" % gini, (0.68, 0.46), color=c, ha='center', fontsize=13)\n",
    "\n",
    "#plt.title('Bottom half of Thai population receive less than 20% of Total Income\\nwhile the top 10% receive more than 40% of Total Income', fontsize=16, y=1.1)\n",
    "plt.show()\n",
    "\n",
    "fig.savefig('output/lorenz.jpg', bbox_inches='tight', dpi=300)"
   ]
  }
 ],
 "metadata": {
  "kernelspec": {
   "display_name": "Python 3",
   "language": "python",
   "name": "python3"
  },
  "language_info": {
   "codemirror_mode": {
    "name": "ipython",
    "version": 3
   },
   "file_extension": ".py",
   "mimetype": "text/x-python",
   "name": "python",
   "nbconvert_exporter": "python",
   "pygments_lexer": "ipython3",
   "version": "3.8.5"
  }
 },
 "nbformat": 4,
 "nbformat_minor": 4
}
