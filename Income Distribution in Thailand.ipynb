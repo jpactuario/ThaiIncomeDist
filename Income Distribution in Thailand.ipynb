{
 "cells": [
  {
   "cell_type": "markdown",
   "metadata": {},
   "source": [
    "# Income Distribution in Thailand\n",
    "\n",
    "### Package Import"
   ]
  },
  {
   "cell_type": "code",
   "execution_count": 380,
   "metadata": {},
   "outputs": [],
   "source": [
    "import pandas as pd\n",
    "import numpy as np\n",
    "import matplotlib.pyplot as plt\n",
    "import matplotlib.ticker as ticker\n",
    "import matplotlib.patheffects as pe\n",
    "from sklearn.linear_model import LinearRegression\n",
    "pd.options.display.float_format = '{:,.2f}'.format"
   ]
  },
  {
   "cell_type": "code",
   "execution_count": 203,
   "metadata": {},
   "outputs": [],
   "source": [
    "# Visualization Default Settings\n",
    "\n",
    "params = {\"axes.spines.right\": False,\n",
    "          \"axes.spines.top\": False, \n",
    "          \"axes.spines.left\": False,\n",
    "          \"axes.spines.bottom\": False,\n",
    "          \"font.family\": \"Arial\",\n",
    "          \"axes.labelsize\": 12,\n",
    "          \"xtick.labelsize\": 12,\n",
    "          \"ytick.labelsize\": 12\n",
    "         }\n",
    "\n",
    "\n",
    "\n",
    "\n",
    "# params = {\"figure.facecolor\": \"#cad9e1\",\n",
    "#               \"axes.facecolor\": \"#cad9e1\",\n",
    "#               \"axes.grid\" : True,\n",
    "#               \"axes.grid.axis\" : \"y\",\n",
    "#               \"grid.color\"    : \"#ffffff\",\n",
    "#               \"grid.linewidth\": 2,\n",
    "#               \"axes.spines.left\" : False,\n",
    "#               \"axes.spines.right\" : False,\n",
    "#               \"axes.spines.top\" : False,\n",
    "#               \"ytick.major.size\": 0,     \n",
    "#               \"ytick.minor.size\": 0,\n",
    "#               \"xtick.direction\" : \"in\",\n",
    "#               \"xtick.major.size\" : 7,\n",
    "#               \"xtick.color\"      : \"#191919\",\n",
    "#               \"axes.edgecolor\"    :\"#191919\",\n",
    "#               \"axes.prop_cycle\" : plt.cycler('color',\n",
    "#                                     ['#006767', '#ff7f0e', '#2ca02c', '#d62728',\n",
    "#                                      '#9467bd', '#8c564b', '#e377c2', '#7f7f7f',\n",
    "#                                      '#bcbd22', '#17becf'])}\n",
    "\n",
    "\n",
    "plt.rcParams.update(params)"
   ]
  },
  {
   "cell_type": "markdown",
   "metadata": {},
   "source": [
    "### Data Import"
   ]
  },
  {
   "cell_type": "code",
   "execution_count": 45,
   "metadata": {},
   "outputs": [
    {
     "data": {
      "text/html": [
       "<div>\n",
       "<style scoped>\n",
       "    .dataframe tbody tr th:only-of-type {\n",
       "        vertical-align: middle;\n",
       "    }\n",
       "\n",
       "    .dataframe tbody tr th {\n",
       "        vertical-align: top;\n",
       "    }\n",
       "\n",
       "    .dataframe thead th {\n",
       "        text-align: right;\n",
       "    }\n",
       "</style>\n",
       "<table border=\"1\" class=\"dataframe\">\n",
       "  <thead>\n",
       "    <tr style=\"text-align: right;\">\n",
       "      <th></th>\n",
       "      <th>Income_LB</th>\n",
       "      <th>Income_UB</th>\n",
       "      <th>N</th>\n",
       "      <th>Tot_Income_mil</th>\n",
       "      <th>TotIncome</th>\n",
       "      <th>AvgIncome</th>\n",
       "    </tr>\n",
       "  </thead>\n",
       "  <tbody>\n",
       "    <tr>\n",
       "      <th>0</th>\n",
       "      <td>0.00</td>\n",
       "      <td>100,000.00</td>\n",
       "      <td>1,369,075.00</td>\n",
       "      <td>70,420.00</td>\n",
       "      <td>70,420,000,000.00</td>\n",
       "      <td>51,436.19</td>\n",
       "    </tr>\n",
       "    <tr>\n",
       "      <th>1</th>\n",
       "      <td>100,000.00</td>\n",
       "      <td>150,000.00</td>\n",
       "      <td>1,163,511.00</td>\n",
       "      <td>146,347.00</td>\n",
       "      <td>146,347,000,000.00</td>\n",
       "      <td>125,780.50</td>\n",
       "    </tr>\n",
       "    <tr>\n",
       "      <th>2</th>\n",
       "      <td>150,000.00</td>\n",
       "      <td>200,000.00</td>\n",
       "      <td>1,319,399.00</td>\n",
       "      <td>231,703.00</td>\n",
       "      <td>231,703,000,000.00</td>\n",
       "      <td>175,612.53</td>\n",
       "    </tr>\n",
       "    <tr>\n",
       "      <th>3</th>\n",
       "      <td>200,000.00</td>\n",
       "      <td>300,000.00</td>\n",
       "      <td>2,063,376.00</td>\n",
       "      <td>513,683.00</td>\n",
       "      <td>513,683,000,000.00</td>\n",
       "      <td>248,952.69</td>\n",
       "    </tr>\n",
       "    <tr>\n",
       "      <th>4</th>\n",
       "      <td>300,000.00</td>\n",
       "      <td>400,000.00</td>\n",
       "      <td>1,447,149.00</td>\n",
       "      <td>505,048.00</td>\n",
       "      <td>505,048,000,000.00</td>\n",
       "      <td>348,995.16</td>\n",
       "    </tr>\n",
       "    <tr>\n",
       "      <th>5</th>\n",
       "      <td>400,000.00</td>\n",
       "      <td>500,000.00</td>\n",
       "      <td>964,896.00</td>\n",
       "      <td>431,275.00</td>\n",
       "      <td>431,275,000,000.00</td>\n",
       "      <td>446,965.27</td>\n",
       "    </tr>\n",
       "    <tr>\n",
       "      <th>6</th>\n",
       "      <td>500,000.00</td>\n",
       "      <td>750,000.00</td>\n",
       "      <td>1,355,676.00</td>\n",
       "      <td>822,411.00</td>\n",
       "      <td>822,411,000,000.00</td>\n",
       "      <td>606,642.74</td>\n",
       "    </tr>\n",
       "    <tr>\n",
       "      <th>7</th>\n",
       "      <td>750,000.00</td>\n",
       "      <td>1,000,000.00</td>\n",
       "      <td>587,572.00</td>\n",
       "      <td>502,278.00</td>\n",
       "      <td>502,278,000,000.00</td>\n",
       "      <td>854,836.51</td>\n",
       "    </tr>\n",
       "    <tr>\n",
       "      <th>8</th>\n",
       "      <td>1,000,000.00</td>\n",
       "      <td>1,500,000.00</td>\n",
       "      <td>438,883.00</td>\n",
       "      <td>529,437.00</td>\n",
       "      <td>529,437,000,000.00</td>\n",
       "      <td>1,206,328.34</td>\n",
       "    </tr>\n",
       "    <tr>\n",
       "      <th>9</th>\n",
       "      <td>1,500,000.00</td>\n",
       "      <td>2,000,000.00</td>\n",
       "      <td>175,204.00</td>\n",
       "      <td>299,431.00</td>\n",
       "      <td>299,431,000,000.00</td>\n",
       "      <td>1,709,042.03</td>\n",
       "    </tr>\n",
       "    <tr>\n",
       "      <th>10</th>\n",
       "      <td>2,000,000.00</td>\n",
       "      <td>3,000,000.00</td>\n",
       "      <td>111,955.00</td>\n",
       "      <td>267,935.00</td>\n",
       "      <td>267,935,000,000.00</td>\n",
       "      <td>2,393,238.35</td>\n",
       "    </tr>\n",
       "    <tr>\n",
       "      <th>11</th>\n",
       "      <td>3,000,000.00</td>\n",
       "      <td>4,000,000.00</td>\n",
       "      <td>44,502.00</td>\n",
       "      <td>152,468.00</td>\n",
       "      <td>152,468,000,000.00</td>\n",
       "      <td>3,426,093.21</td>\n",
       "    </tr>\n",
       "    <tr>\n",
       "      <th>12</th>\n",
       "      <td>4,000,000.00</td>\n",
       "      <td>5,000,000.00</td>\n",
       "      <td>24,133.00</td>\n",
       "      <td>107,090.00</td>\n",
       "      <td>107,090,000,000.00</td>\n",
       "      <td>4,437,492.23</td>\n",
       "    </tr>\n",
       "    <tr>\n",
       "      <th>13</th>\n",
       "      <td>5,000,000.00</td>\n",
       "      <td>6,000,000.00</td>\n",
       "      <td>14,340.00</td>\n",
       "      <td>77,722.00</td>\n",
       "      <td>77,722,000,000.00</td>\n",
       "      <td>5,419,944.21</td>\n",
       "    </tr>\n",
       "    <tr>\n",
       "      <th>14</th>\n",
       "      <td>6,000,000.00</td>\n",
       "      <td>7,000,000.00</td>\n",
       "      <td>9,160.00</td>\n",
       "      <td>58,262.00</td>\n",
       "      <td>58,262,000,000.00</td>\n",
       "      <td>6,360,480.35</td>\n",
       "    </tr>\n",
       "    <tr>\n",
       "      <th>15</th>\n",
       "      <td>7,000,000.00</td>\n",
       "      <td>8,000,000.00</td>\n",
       "      <td>6,119.00</td>\n",
       "      <td>45,178.00</td>\n",
       "      <td>45,178,000,000.00</td>\n",
       "      <td>7,383,232.55</td>\n",
       "    </tr>\n",
       "    <tr>\n",
       "      <th>16</th>\n",
       "      <td>8,000,000.00</td>\n",
       "      <td>9,000,000.00</td>\n",
       "      <td>4,117.00</td>\n",
       "      <td>34,260.00</td>\n",
       "      <td>34,260,000,000.00</td>\n",
       "      <td>8,321,593.39</td>\n",
       "    </tr>\n",
       "    <tr>\n",
       "      <th>17</th>\n",
       "      <td>9,000,000.00</td>\n",
       "      <td>10,000,000.00</td>\n",
       "      <td>2,863.00</td>\n",
       "      <td>26,720.00</td>\n",
       "      <td>26,720,000,000.00</td>\n",
       "      <td>9,332,867.62</td>\n",
       "    </tr>\n",
       "    <tr>\n",
       "      <th>18</th>\n",
       "      <td>10,000,000.00</td>\n",
       "      <td>15,000,000.00</td>\n",
       "      <td>5,975.00</td>\n",
       "      <td>70,100.00</td>\n",
       "      <td>70,100,000,000.00</td>\n",
       "      <td>11,732,217.57</td>\n",
       "    </tr>\n",
       "    <tr>\n",
       "      <th>19</th>\n",
       "      <td>15,000,000.00</td>\n",
       "      <td>20,000,000.00</td>\n",
       "      <td>2,122.00</td>\n",
       "      <td>35,794.00</td>\n",
       "      <td>35,794,000,000.00</td>\n",
       "      <td>16,868,049.01</td>\n",
       "    </tr>\n",
       "    <tr>\n",
       "      <th>20</th>\n",
       "      <td>20,000,000.00</td>\n",
       "      <td>999,999,995,904.00</td>\n",
       "      <td>2,883.00</td>\n",
       "      <td>124,239.00</td>\n",
       "      <td>124,239,000,000.00</td>\n",
       "      <td>43,093,652.45</td>\n",
       "    </tr>\n",
       "  </tbody>\n",
       "</table>\n",
       "</div>"
      ],
      "text/plain": [
       "       Income_LB          Income_UB            N  Tot_Income_mil  \\\n",
       "0           0.00         100,000.00 1,369,075.00       70,420.00   \n",
       "1     100,000.00         150,000.00 1,163,511.00      146,347.00   \n",
       "2     150,000.00         200,000.00 1,319,399.00      231,703.00   \n",
       "3     200,000.00         300,000.00 2,063,376.00      513,683.00   \n",
       "4     300,000.00         400,000.00 1,447,149.00      505,048.00   \n",
       "5     400,000.00         500,000.00   964,896.00      431,275.00   \n",
       "6     500,000.00         750,000.00 1,355,676.00      822,411.00   \n",
       "7     750,000.00       1,000,000.00   587,572.00      502,278.00   \n",
       "8   1,000,000.00       1,500,000.00   438,883.00      529,437.00   \n",
       "9   1,500,000.00       2,000,000.00   175,204.00      299,431.00   \n",
       "10  2,000,000.00       3,000,000.00   111,955.00      267,935.00   \n",
       "11  3,000,000.00       4,000,000.00    44,502.00      152,468.00   \n",
       "12  4,000,000.00       5,000,000.00    24,133.00      107,090.00   \n",
       "13  5,000,000.00       6,000,000.00    14,340.00       77,722.00   \n",
       "14  6,000,000.00       7,000,000.00     9,160.00       58,262.00   \n",
       "15  7,000,000.00       8,000,000.00     6,119.00       45,178.00   \n",
       "16  8,000,000.00       9,000,000.00     4,117.00       34,260.00   \n",
       "17  9,000,000.00      10,000,000.00     2,863.00       26,720.00   \n",
       "18 10,000,000.00      15,000,000.00     5,975.00       70,100.00   \n",
       "19 15,000,000.00      20,000,000.00     2,122.00       35,794.00   \n",
       "20 20,000,000.00 999,999,995,904.00     2,883.00      124,239.00   \n",
       "\n",
       "            TotIncome     AvgIncome  \n",
       "0   70,420,000,000.00     51,436.19  \n",
       "1  146,347,000,000.00    125,780.50  \n",
       "2  231,703,000,000.00    175,612.53  \n",
       "3  513,683,000,000.00    248,952.69  \n",
       "4  505,048,000,000.00    348,995.16  \n",
       "5  431,275,000,000.00    446,965.27  \n",
       "6  822,411,000,000.00    606,642.74  \n",
       "7  502,278,000,000.00    854,836.51  \n",
       "8  529,437,000,000.00  1,206,328.34  \n",
       "9  299,431,000,000.00  1,709,042.03  \n",
       "10 267,935,000,000.00  2,393,238.35  \n",
       "11 152,468,000,000.00  3,426,093.21  \n",
       "12 107,090,000,000.00  4,437,492.23  \n",
       "13  77,722,000,000.00  5,419,944.21  \n",
       "14  58,262,000,000.00  6,360,480.35  \n",
       "15  45,178,000,000.00  7,383,232.55  \n",
       "16  34,260,000,000.00  8,321,593.39  \n",
       "17  26,720,000,000.00  9,332,867.62  \n",
       "18  70,100,000,000.00 11,732,217.57  \n",
       "19  35,794,000,000.00 16,868,049.01  \n",
       "20 124,239,000,000.00 43,093,652.45  "
      ]
     },
     "execution_count": 45,
     "metadata": {},
     "output_type": "execute_result"
    }
   ],
   "source": [
    "raw_data = pd.read_csv('data/TH_TaxIncomeBrackets.csv')\n",
    "raw_data = raw_data.apply(pd.to_numeric, downcast='float')\n",
    "raw_data = raw_data.rename(columns={'Tax_Units':'N'})\n",
    "raw_data['TotIncome'] = raw_data['Tot_Income_mil'] * 1000000\n",
    "raw_data['AvgIncome'] = raw_data['TotIncome'] / raw_data['N']\n",
    "raw_data = raw_data.sort_values('Income_LB')\n",
    "raw_data"
   ]
  },
  {
   "cell_type": "markdown",
   "metadata": {},
   "source": [
    "### Income Distribution\n",
    "\n",
    "* Add CDF for both TaxUnits and TotIncome"
   ]
  },
  {
   "cell_type": "code",
   "execution_count": 49,
   "metadata": {},
   "outputs": [
    {
     "data": {
      "text/html": [
       "<div>\n",
       "<style scoped>\n",
       "    .dataframe tbody tr th:only-of-type {\n",
       "        vertical-align: middle;\n",
       "    }\n",
       "\n",
       "    .dataframe tbody tr th {\n",
       "        vertical-align: top;\n",
       "    }\n",
       "\n",
       "    .dataframe thead th {\n",
       "        text-align: right;\n",
       "    }\n",
       "</style>\n",
       "<table border=\"1\" class=\"dataframe\">\n",
       "  <thead>\n",
       "    <tr style=\"text-align: right;\">\n",
       "      <th></th>\n",
       "      <th>Income_LB</th>\n",
       "      <th>CumN</th>\n",
       "      <th>CumIncome</th>\n",
       "    </tr>\n",
       "  </thead>\n",
       "  <tbody>\n",
       "    <tr>\n",
       "      <th>0</th>\n",
       "      <td>0.00</td>\n",
       "      <td>0.12</td>\n",
       "      <td>0.01</td>\n",
       "    </tr>\n",
       "    <tr>\n",
       "      <th>1</th>\n",
       "      <td>100,000.00</td>\n",
       "      <td>0.23</td>\n",
       "      <td>0.04</td>\n",
       "    </tr>\n",
       "    <tr>\n",
       "      <th>2</th>\n",
       "      <td>150,000.00</td>\n",
       "      <td>0.35</td>\n",
       "      <td>0.09</td>\n",
       "    </tr>\n",
       "    <tr>\n",
       "      <th>3</th>\n",
       "      <td>200,000.00</td>\n",
       "      <td>0.53</td>\n",
       "      <td>0.19</td>\n",
       "    </tr>\n",
       "    <tr>\n",
       "      <th>4</th>\n",
       "      <td>300,000.00</td>\n",
       "      <td>0.66</td>\n",
       "      <td>0.29</td>\n",
       "    </tr>\n",
       "    <tr>\n",
       "      <th>5</th>\n",
       "      <td>400,000.00</td>\n",
       "      <td>0.75</td>\n",
       "      <td>0.38</td>\n",
       "    </tr>\n",
       "    <tr>\n",
       "      <th>6</th>\n",
       "      <td>500,000.00</td>\n",
       "      <td>0.87</td>\n",
       "      <td>0.54</td>\n",
       "    </tr>\n",
       "    <tr>\n",
       "      <th>7</th>\n",
       "      <td>750,000.00</td>\n",
       "      <td>0.92</td>\n",
       "      <td>0.64</td>\n",
       "    </tr>\n",
       "    <tr>\n",
       "      <th>8</th>\n",
       "      <td>1,000,000.00</td>\n",
       "      <td>0.96</td>\n",
       "      <td>0.74</td>\n",
       "    </tr>\n",
       "    <tr>\n",
       "      <th>9</th>\n",
       "      <td>1,500,000.00</td>\n",
       "      <td>0.98</td>\n",
       "      <td>0.80</td>\n",
       "    </tr>\n",
       "    <tr>\n",
       "      <th>10</th>\n",
       "      <td>2,000,000.00</td>\n",
       "      <td>0.99</td>\n",
       "      <td>0.86</td>\n",
       "    </tr>\n",
       "    <tr>\n",
       "      <th>11</th>\n",
       "      <td>3,000,000.00</td>\n",
       "      <td>0.99</td>\n",
       "      <td>0.89</td>\n",
       "    </tr>\n",
       "    <tr>\n",
       "      <th>12</th>\n",
       "      <td>4,000,000.00</td>\n",
       "      <td>1.00</td>\n",
       "      <td>0.91</td>\n",
       "    </tr>\n",
       "    <tr>\n",
       "      <th>13</th>\n",
       "      <td>5,000,000.00</td>\n",
       "      <td>1.00</td>\n",
       "      <td>0.92</td>\n",
       "    </tr>\n",
       "    <tr>\n",
       "      <th>14</th>\n",
       "      <td>6,000,000.00</td>\n",
       "      <td>1.00</td>\n",
       "      <td>0.93</td>\n",
       "    </tr>\n",
       "    <tr>\n",
       "      <th>15</th>\n",
       "      <td>7,000,000.00</td>\n",
       "      <td>1.00</td>\n",
       "      <td>0.94</td>\n",
       "    </tr>\n",
       "    <tr>\n",
       "      <th>16</th>\n",
       "      <td>8,000,000.00</td>\n",
       "      <td>1.00</td>\n",
       "      <td>0.95</td>\n",
       "    </tr>\n",
       "    <tr>\n",
       "      <th>17</th>\n",
       "      <td>9,000,000.00</td>\n",
       "      <td>1.00</td>\n",
       "      <td>0.95</td>\n",
       "    </tr>\n",
       "    <tr>\n",
       "      <th>18</th>\n",
       "      <td>10,000,000.00</td>\n",
       "      <td>1.00</td>\n",
       "      <td>0.97</td>\n",
       "    </tr>\n",
       "    <tr>\n",
       "      <th>19</th>\n",
       "      <td>15,000,000.00</td>\n",
       "      <td>1.00</td>\n",
       "      <td>0.98</td>\n",
       "    </tr>\n",
       "    <tr>\n",
       "      <th>20</th>\n",
       "      <td>20,000,000.00</td>\n",
       "      <td>1.00</td>\n",
       "      <td>1.00</td>\n",
       "    </tr>\n",
       "  </tbody>\n",
       "</table>\n",
       "</div>"
      ],
      "text/plain": [
       "       Income_LB  CumN  CumIncome\n",
       "0           0.00  0.12       0.01\n",
       "1     100,000.00  0.23       0.04\n",
       "2     150,000.00  0.35       0.09\n",
       "3     200,000.00  0.53       0.19\n",
       "4     300,000.00  0.66       0.29\n",
       "5     400,000.00  0.75       0.38\n",
       "6     500,000.00  0.87       0.54\n",
       "7     750,000.00  0.92       0.64\n",
       "8   1,000,000.00  0.96       0.74\n",
       "9   1,500,000.00  0.98       0.80\n",
       "10  2,000,000.00  0.99       0.86\n",
       "11  3,000,000.00  0.99       0.89\n",
       "12  4,000,000.00  1.00       0.91\n",
       "13  5,000,000.00  1.00       0.92\n",
       "14  6,000,000.00  1.00       0.93\n",
       "15  7,000,000.00  1.00       0.94\n",
       "16  8,000,000.00  1.00       0.95\n",
       "17  9,000,000.00  1.00       0.95\n",
       "18 10,000,000.00  1.00       0.97\n",
       "19 15,000,000.00  1.00       0.98\n",
       "20 20,000,000.00  1.00       1.00"
      ]
     },
     "execution_count": 49,
     "metadata": {},
     "output_type": "execute_result"
    }
   ],
   "source": [
    "cum_data = raw_data[['N', 'TotIncome']].cumsum()\n",
    "cum_data['Income_LB'] = raw_data['Income_LB']\n",
    "cum_data['CumN'] = cum_data['N'] / np.sum(raw_data['N'])\n",
    "cum_data['CumIncome'] = cum_data['TotIncome'] / np.sum(raw_data['TotIncome'])\n",
    "cum_data = cum_data[['Income_LB','CumN','CumIncome']]\n",
    "cum_data"
   ]
  },
  {
   "cell_type": "code",
   "execution_count": 687,
   "metadata": {},
   "outputs": [
    {
     "data": {
      "text/html": [
       "<div>\n",
       "<style scoped>\n",
       "    .dataframe tbody tr th:only-of-type {\n",
       "        vertical-align: middle;\n",
       "    }\n",
       "\n",
       "    .dataframe tbody tr th {\n",
       "        vertical-align: top;\n",
       "    }\n",
       "\n",
       "    .dataframe thead th {\n",
       "        text-align: right;\n",
       "    }\n",
       "</style>\n",
       "<table border=\"1\" class=\"dataframe\">\n",
       "  <thead>\n",
       "    <tr style=\"text-align: right;\">\n",
       "      <th></th>\n",
       "      <th>Income_LB</th>\n",
       "      <th>Income_UB</th>\n",
       "      <th>N</th>\n",
       "      <th>TotIncome</th>\n",
       "      <th>AvgIncome</th>\n",
       "      <th>CumN</th>\n",
       "      <th>CumIncome</th>\n",
       "      <th>CumN_prev</th>\n",
       "      <th>CumIncome_prev</th>\n",
       "      <th>Income_Mid</th>\n",
       "    </tr>\n",
       "  </thead>\n",
       "  <tbody>\n",
       "    <tr>\n",
       "      <th>0</th>\n",
       "      <td>0.00</td>\n",
       "      <td>100,000.00</td>\n",
       "      <td>1,369,075.00</td>\n",
       "      <td>70,420,000,000.00</td>\n",
       "      <td>51,436.19</td>\n",
       "      <td>0.12</td>\n",
       "      <td>0.01</td>\n",
       "      <td>0.00</td>\n",
       "      <td>0.00</td>\n",
       "      <td>50,000.00</td>\n",
       "    </tr>\n",
       "    <tr>\n",
       "      <th>1</th>\n",
       "      <td>100,000.00</td>\n",
       "      <td>150,000.00</td>\n",
       "      <td>1,163,511.00</td>\n",
       "      <td>146,347,000,000.00</td>\n",
       "      <td>125,780.50</td>\n",
       "      <td>0.23</td>\n",
       "      <td>0.04</td>\n",
       "      <td>0.12</td>\n",
       "      <td>0.01</td>\n",
       "      <td>125,000.00</td>\n",
       "    </tr>\n",
       "    <tr>\n",
       "      <th>2</th>\n",
       "      <td>150,000.00</td>\n",
       "      <td>200,000.00</td>\n",
       "      <td>1,319,399.00</td>\n",
       "      <td>231,703,000,000.00</td>\n",
       "      <td>175,612.53</td>\n",
       "      <td>0.35</td>\n",
       "      <td>0.09</td>\n",
       "      <td>0.23</td>\n",
       "      <td>0.04</td>\n",
       "      <td>175,000.00</td>\n",
       "    </tr>\n",
       "    <tr>\n",
       "      <th>3</th>\n",
       "      <td>200,000.00</td>\n",
       "      <td>300,000.00</td>\n",
       "      <td>2,063,376.00</td>\n",
       "      <td>513,683,000,000.00</td>\n",
       "      <td>248,952.69</td>\n",
       "      <td>0.53</td>\n",
       "      <td>0.19</td>\n",
       "      <td>0.35</td>\n",
       "      <td>0.09</td>\n",
       "      <td>250,000.00</td>\n",
       "    </tr>\n",
       "    <tr>\n",
       "      <th>4</th>\n",
       "      <td>300,000.00</td>\n",
       "      <td>400,000.00</td>\n",
       "      <td>1,447,149.00</td>\n",
       "      <td>505,048,000,000.00</td>\n",
       "      <td>348,995.16</td>\n",
       "      <td>0.66</td>\n",
       "      <td>0.29</td>\n",
       "      <td>0.53</td>\n",
       "      <td>0.19</td>\n",
       "      <td>350,000.00</td>\n",
       "    </tr>\n",
       "    <tr>\n",
       "      <th>5</th>\n",
       "      <td>400,000.00</td>\n",
       "      <td>500,000.00</td>\n",
       "      <td>964,896.00</td>\n",
       "      <td>431,275,000,000.00</td>\n",
       "      <td>446,965.27</td>\n",
       "      <td>0.75</td>\n",
       "      <td>0.38</td>\n",
       "      <td>0.66</td>\n",
       "      <td>0.29</td>\n",
       "      <td>450,000.00</td>\n",
       "    </tr>\n",
       "    <tr>\n",
       "      <th>6</th>\n",
       "      <td>500,000.00</td>\n",
       "      <td>750,000.00</td>\n",
       "      <td>1,355,676.00</td>\n",
       "      <td>822,411,000,000.00</td>\n",
       "      <td>606,642.74</td>\n",
       "      <td>0.87</td>\n",
       "      <td>0.54</td>\n",
       "      <td>0.75</td>\n",
       "      <td>0.38</td>\n",
       "      <td>625,000.00</td>\n",
       "    </tr>\n",
       "    <tr>\n",
       "      <th>7</th>\n",
       "      <td>750,000.00</td>\n",
       "      <td>1,000,000.00</td>\n",
       "      <td>587,572.00</td>\n",
       "      <td>502,278,000,000.00</td>\n",
       "      <td>854,836.51</td>\n",
       "      <td>0.92</td>\n",
       "      <td>0.64</td>\n",
       "      <td>0.87</td>\n",
       "      <td>0.54</td>\n",
       "      <td>875,000.00</td>\n",
       "    </tr>\n",
       "    <tr>\n",
       "      <th>8</th>\n",
       "      <td>1,000,000.00</td>\n",
       "      <td>1,500,000.00</td>\n",
       "      <td>438,883.00</td>\n",
       "      <td>529,437,000,000.00</td>\n",
       "      <td>1,206,328.34</td>\n",
       "      <td>0.96</td>\n",
       "      <td>0.74</td>\n",
       "      <td>0.92</td>\n",
       "      <td>0.64</td>\n",
       "      <td>1,250,000.00</td>\n",
       "    </tr>\n",
       "    <tr>\n",
       "      <th>9</th>\n",
       "      <td>1,500,000.00</td>\n",
       "      <td>2,000,000.00</td>\n",
       "      <td>175,204.00</td>\n",
       "      <td>299,431,000,000.00</td>\n",
       "      <td>1,709,042.03</td>\n",
       "      <td>0.98</td>\n",
       "      <td>0.80</td>\n",
       "      <td>0.96</td>\n",
       "      <td>0.74</td>\n",
       "      <td>1,750,000.00</td>\n",
       "    </tr>\n",
       "    <tr>\n",
       "      <th>10</th>\n",
       "      <td>2,000,000.00</td>\n",
       "      <td>3,000,000.00</td>\n",
       "      <td>111,955.00</td>\n",
       "      <td>267,935,000,000.00</td>\n",
       "      <td>2,393,238.35</td>\n",
       "      <td>0.99</td>\n",
       "      <td>0.86</td>\n",
       "      <td>0.98</td>\n",
       "      <td>0.80</td>\n",
       "      <td>2,500,000.00</td>\n",
       "    </tr>\n",
       "    <tr>\n",
       "      <th>11</th>\n",
       "      <td>3,000,000.00</td>\n",
       "      <td>4,000,000.00</td>\n",
       "      <td>44,502.00</td>\n",
       "      <td>152,468,000,000.00</td>\n",
       "      <td>3,426,093.21</td>\n",
       "      <td>0.99</td>\n",
       "      <td>0.89</td>\n",
       "      <td>0.99</td>\n",
       "      <td>0.86</td>\n",
       "      <td>3,500,000.00</td>\n",
       "    </tr>\n",
       "    <tr>\n",
       "      <th>12</th>\n",
       "      <td>4,000,000.00</td>\n",
       "      <td>5,000,000.00</td>\n",
       "      <td>24,133.00</td>\n",
       "      <td>107,090,000,000.00</td>\n",
       "      <td>4,437,492.23</td>\n",
       "      <td>1.00</td>\n",
       "      <td>0.91</td>\n",
       "      <td>0.99</td>\n",
       "      <td>0.89</td>\n",
       "      <td>4,500,000.00</td>\n",
       "    </tr>\n",
       "    <tr>\n",
       "      <th>13</th>\n",
       "      <td>5,000,000.00</td>\n",
       "      <td>6,000,000.00</td>\n",
       "      <td>14,340.00</td>\n",
       "      <td>77,722,000,000.00</td>\n",
       "      <td>5,419,944.21</td>\n",
       "      <td>1.00</td>\n",
       "      <td>0.92</td>\n",
       "      <td>1.00</td>\n",
       "      <td>0.91</td>\n",
       "      <td>5,500,000.00</td>\n",
       "    </tr>\n",
       "    <tr>\n",
       "      <th>14</th>\n",
       "      <td>6,000,000.00</td>\n",
       "      <td>7,000,000.00</td>\n",
       "      <td>9,160.00</td>\n",
       "      <td>58,262,000,000.00</td>\n",
       "      <td>6,360,480.35</td>\n",
       "      <td>1.00</td>\n",
       "      <td>0.93</td>\n",
       "      <td>1.00</td>\n",
       "      <td>0.92</td>\n",
       "      <td>6,500,000.00</td>\n",
       "    </tr>\n",
       "    <tr>\n",
       "      <th>15</th>\n",
       "      <td>7,000,000.00</td>\n",
       "      <td>8,000,000.00</td>\n",
       "      <td>6,119.00</td>\n",
       "      <td>45,178,000,000.00</td>\n",
       "      <td>7,383,232.55</td>\n",
       "      <td>1.00</td>\n",
       "      <td>0.94</td>\n",
       "      <td>1.00</td>\n",
       "      <td>0.93</td>\n",
       "      <td>7,500,000.00</td>\n",
       "    </tr>\n",
       "    <tr>\n",
       "      <th>16</th>\n",
       "      <td>8,000,000.00</td>\n",
       "      <td>9,000,000.00</td>\n",
       "      <td>4,117.00</td>\n",
       "      <td>34,260,000,000.00</td>\n",
       "      <td>8,321,593.39</td>\n",
       "      <td>1.00</td>\n",
       "      <td>0.95</td>\n",
       "      <td>1.00</td>\n",
       "      <td>0.94</td>\n",
       "      <td>8,500,000.00</td>\n",
       "    </tr>\n",
       "    <tr>\n",
       "      <th>17</th>\n",
       "      <td>9,000,000.00</td>\n",
       "      <td>10,000,000.00</td>\n",
       "      <td>2,863.00</td>\n",
       "      <td>26,720,000,000.00</td>\n",
       "      <td>9,332,867.62</td>\n",
       "      <td>1.00</td>\n",
       "      <td>0.95</td>\n",
       "      <td>1.00</td>\n",
       "      <td>0.95</td>\n",
       "      <td>9,500,000.00</td>\n",
       "    </tr>\n",
       "    <tr>\n",
       "      <th>18</th>\n",
       "      <td>10,000,000.00</td>\n",
       "      <td>15,000,000.00</td>\n",
       "      <td>5,975.00</td>\n",
       "      <td>70,100,000,000.00</td>\n",
       "      <td>11,732,217.57</td>\n",
       "      <td>1.00</td>\n",
       "      <td>0.97</td>\n",
       "      <td>1.00</td>\n",
       "      <td>0.95</td>\n",
       "      <td>12,500,000.00</td>\n",
       "    </tr>\n",
       "    <tr>\n",
       "      <th>19</th>\n",
       "      <td>15,000,000.00</td>\n",
       "      <td>20,000,000.00</td>\n",
       "      <td>2,122.00</td>\n",
       "      <td>35,794,000,000.00</td>\n",
       "      <td>16,868,049.01</td>\n",
       "      <td>1.00</td>\n",
       "      <td>0.98</td>\n",
       "      <td>1.00</td>\n",
       "      <td>0.97</td>\n",
       "      <td>17,500,000.00</td>\n",
       "    </tr>\n",
       "    <tr>\n",
       "      <th>20</th>\n",
       "      <td>20,000,000.00</td>\n",
       "      <td>999,999,995,904.00</td>\n",
       "      <td>2,883.00</td>\n",
       "      <td>124,239,000,000.00</td>\n",
       "      <td>43,093,652.45</td>\n",
       "      <td>1.00</td>\n",
       "      <td>1.00</td>\n",
       "      <td>1.00</td>\n",
       "      <td>0.98</td>\n",
       "      <td>500,009,992,192.00</td>\n",
       "    </tr>\n",
       "  </tbody>\n",
       "</table>\n",
       "</div>"
      ],
      "text/plain": [
       "       Income_LB          Income_UB            N          TotIncome  \\\n",
       "0           0.00         100,000.00 1,369,075.00  70,420,000,000.00   \n",
       "1     100,000.00         150,000.00 1,163,511.00 146,347,000,000.00   \n",
       "2     150,000.00         200,000.00 1,319,399.00 231,703,000,000.00   \n",
       "3     200,000.00         300,000.00 2,063,376.00 513,683,000,000.00   \n",
       "4     300,000.00         400,000.00 1,447,149.00 505,048,000,000.00   \n",
       "5     400,000.00         500,000.00   964,896.00 431,275,000,000.00   \n",
       "6     500,000.00         750,000.00 1,355,676.00 822,411,000,000.00   \n",
       "7     750,000.00       1,000,000.00   587,572.00 502,278,000,000.00   \n",
       "8   1,000,000.00       1,500,000.00   438,883.00 529,437,000,000.00   \n",
       "9   1,500,000.00       2,000,000.00   175,204.00 299,431,000,000.00   \n",
       "10  2,000,000.00       3,000,000.00   111,955.00 267,935,000,000.00   \n",
       "11  3,000,000.00       4,000,000.00    44,502.00 152,468,000,000.00   \n",
       "12  4,000,000.00       5,000,000.00    24,133.00 107,090,000,000.00   \n",
       "13  5,000,000.00       6,000,000.00    14,340.00  77,722,000,000.00   \n",
       "14  6,000,000.00       7,000,000.00     9,160.00  58,262,000,000.00   \n",
       "15  7,000,000.00       8,000,000.00     6,119.00  45,178,000,000.00   \n",
       "16  8,000,000.00       9,000,000.00     4,117.00  34,260,000,000.00   \n",
       "17  9,000,000.00      10,000,000.00     2,863.00  26,720,000,000.00   \n",
       "18 10,000,000.00      15,000,000.00     5,975.00  70,100,000,000.00   \n",
       "19 15,000,000.00      20,000,000.00     2,122.00  35,794,000,000.00   \n",
       "20 20,000,000.00 999,999,995,904.00     2,883.00 124,239,000,000.00   \n",
       "\n",
       "       AvgIncome  CumN  CumIncome  CumN_prev  CumIncome_prev  \\\n",
       "0      51,436.19  0.12       0.01       0.00            0.00   \n",
       "1     125,780.50  0.23       0.04       0.12            0.01   \n",
       "2     175,612.53  0.35       0.09       0.23            0.04   \n",
       "3     248,952.69  0.53       0.19       0.35            0.09   \n",
       "4     348,995.16  0.66       0.29       0.53            0.19   \n",
       "5     446,965.27  0.75       0.38       0.66            0.29   \n",
       "6     606,642.74  0.87       0.54       0.75            0.38   \n",
       "7     854,836.51  0.92       0.64       0.87            0.54   \n",
       "8   1,206,328.34  0.96       0.74       0.92            0.64   \n",
       "9   1,709,042.03  0.98       0.80       0.96            0.74   \n",
       "10  2,393,238.35  0.99       0.86       0.98            0.80   \n",
       "11  3,426,093.21  0.99       0.89       0.99            0.86   \n",
       "12  4,437,492.23  1.00       0.91       0.99            0.89   \n",
       "13  5,419,944.21  1.00       0.92       1.00            0.91   \n",
       "14  6,360,480.35  1.00       0.93       1.00            0.92   \n",
       "15  7,383,232.55  1.00       0.94       1.00            0.93   \n",
       "16  8,321,593.39  1.00       0.95       1.00            0.94   \n",
       "17  9,332,867.62  1.00       0.95       1.00            0.95   \n",
       "18 11,732,217.57  1.00       0.97       1.00            0.95   \n",
       "19 16,868,049.01  1.00       0.98       1.00            0.97   \n",
       "20 43,093,652.45  1.00       1.00       1.00            0.98   \n",
       "\n",
       "           Income_Mid  \n",
       "0           50,000.00  \n",
       "1          125,000.00  \n",
       "2          175,000.00  \n",
       "3          250,000.00  \n",
       "4          350,000.00  \n",
       "5          450,000.00  \n",
       "6          625,000.00  \n",
       "7          875,000.00  \n",
       "8        1,250,000.00  \n",
       "9        1,750,000.00  \n",
       "10       2,500,000.00  \n",
       "11       3,500,000.00  \n",
       "12       4,500,000.00  \n",
       "13       5,500,000.00  \n",
       "14       6,500,000.00  \n",
       "15       7,500,000.00  \n",
       "16       8,500,000.00  \n",
       "17       9,500,000.00  \n",
       "18      12,500,000.00  \n",
       "19      17,500,000.00  \n",
       "20 500,009,992,192.00  "
      ]
     },
     "execution_count": 687,
     "metadata": {},
     "output_type": "execute_result"
    }
   ],
   "source": [
    "# Merging tables\n",
    "fin_data = raw_data[['Income_LB', 'Income_UB', 'N', 'TotIncome', 'AvgIncome']].merge(cum_data, how='left', on='Income_LB')\n",
    "\n",
    "# Add previous values\n",
    "\n",
    "fin_data = fin_data.assign(CumN_prev = fin_data['CumN'].shift(1, fill_value=0),\n",
    "                           CumIncome_prev = fin_data['CumIncome'].shift(1, fill_value=0))\n",
    "fin_data['Income_Mid'] = (fin_data['Income_LB'] + fin_data['Income_UB']) / 2\n",
    "fin_data"
   ]
  },
  {
   "cell_type": "markdown",
   "metadata": {},
   "source": [
    "#### Lorenz Curve\n",
    "\n",
    "Lorenz Curve is a graph showing the proportion of overall income or wealth assumed by the bottom x% of the population."
   ]
  },
  {
   "cell_type": "code",
   "execution_count": 595,
   "metadata": {},
   "outputs": [],
   "source": [
    "lorenz_x = np.append([0],fin_data['CumN'])\n",
    "lorenz_y = np.append([0],fin_data['CumIncome'])"
   ]
  },
  {
   "cell_type": "markdown",
   "metadata": {},
   "source": [
    "* Calculation of Gini (Lower Bound)\n",
    "\n",
    "This calculation assumes a linear interpolation between observed values. Due to the convex nature of Lorenz curve, the Gini coefficient calculated using a smooth curve would result in a higher Gini estimate."
   ]
  },
  {
   "cell_type": "code",
   "execution_count": 596,
   "metadata": {},
   "outputs": [
    {
     "name": "stdout",
     "output_type": "stream",
     "text": [
      "Lower Bound of Gini Coefficient: 0.5161\n"
     ]
    }
   ],
   "source": [
    "gini = 0\n",
    "for i in range(len(lorenz_x) - 1):\n",
    "    gini += ((lorenz_x[i+1] - lorenz_y[i+1]) + (lorenz_x[i] - lorenz_y[i])) * (lorenz_x[i+1] - lorenz_x[i])\n",
    "print('Lower Bound of Gini Coefficient: %.4f' % gini)"
   ]
  },
  {
   "cell_type": "code",
   "execution_count": 597,
   "metadata": {},
   "outputs": [
    {
     "data": {
      "text/plain": [
       "array([224.2, 228.4, 255. ])"
      ]
     },
     "execution_count": 597,
     "metadata": {},
     "output_type": "execute_result"
    }
   ],
   "source": [
    "def make_rgb_transparent(rgb, bg_rgb, alpha):\n",
    "    return np.array([alpha * c1 + (1 - alpha) * c2 for (c1, c2) in zip(rgb, bg_rgb)])\n",
    "\n",
    "rgb = [101/255, 122/255, 255/255]\n",
    "bg_rgb = [1,1,1]\n",
    "alpha = 0.2\n",
    "make_rgb_transparent(rgb, bg_rgb, alpha)*255"
   ]
  },
  {
   "cell_type": "code",
   "execution_count": 598,
   "metadata": {},
   "outputs": [
    {
     "data": {
      "image/png": "[encoded data removed]",
      "text/plain": [
       "<Figure size 720x576 with 1 Axes>"
      ]
     },
     "metadata": {
      "needs_background": "light"
     },
     "output_type": "display_data"
    }
   ],
   "source": [
    "c = '#657aff'\n",
    "c_light = (224/255,224/255,1.0)\n",
    "c_dark = '#b2b2ff'\n",
    "\n",
    "fig, ax = plt.subplots(figsize=(10,8))\n",
    "ax.plot(lorenz_x, lorenz_y, color=c, linewidth=3)\n",
    "ax.plot([0,1],[0,1],'0.8',linestyle='--')\n",
    "\n",
    "ax.set_axisbelow(True)\n",
    "ax.grid(axis='y')\n",
    "ax.tick_params(axis='both', color='0.7')\n",
    "\n",
    "\n",
    "ax.fill_between(lorenz_x, lorenz_y, lorenz_x, where=(lorenz_x >= lorenz_y), color=c_light, alpha=0.5)\n",
    "ax.fill_between(lorenz_x, lorenz_y, 0, where=(lorenz_y >= 0), color=c_dark)\n",
    "ax.set_xlabel('Income Percentile (Bottom X% of Population)', labelpad=12)\n",
    "ax.set_ylabel(' Cumulative Income Share', rotation=0, ha='left', position=(0,1.05))\n",
    "ax.set_xlim((0,1))\n",
    "ax.set_ylim((0,1))\n",
    "\n",
    "\n",
    "ax.xaxis.set_major_formatter(ticker.PercentFormatter(xmax=1))\n",
    "ax.yaxis.set_major_formatter(ticker.PercentFormatter(xmax=1))\n",
    "\n",
    "ax.annotate('Perfect Equality', (0.68, 0.72), color='0.3', ha='right', fontsize=13)\n",
    "ax.annotate(\"Thailand's Inequality\\nGini = %.2f\" % gini, (0.68, 0.46), color=c, ha='center', fontsize=13)\n",
    "\n",
    "plt.title('Bottom half of Thai population receive less than 20% of Total Income\\nwhile the top 10% receive more than 40% of Total Income', fontsize=16, y=1.1)\n",
    "plt.show()\n",
    "\n",
    "fig.savefig('output/lorenz.jpg', bbox_inches='tight', dpi=300)"
   ]
  },
  {
   "cell_type": "markdown",
   "metadata": {},
   "source": [
    "#### Where does the skewness begin?"
   ]
  },
  {
   "cell_type": "code",
   "execution_count": 688,
   "metadata": {},
   "outputs": [],
   "source": [
    "# Last income bracket has no midpoint and has to be excluded.\n",
    "mid_point = np.array(fin_data['Income_Mid'])[:-1]\n",
    "avg_inc = np.array(fin_data['AvgIncome'])[:-1]\n",
    "lb = np.array(fin_data['Income_LB'])[:-1]\n",
    "\n",
    "# Distance of Mean to Distance of Mid Point from Lower Bound\n",
    "ratio = (avg_inc - lb) / (mid_point - lb)"
   ]
  },
  {
   "cell_type": "code",
   "execution_count": 689,
   "metadata": {
    "scrolled": true
   },
   "outputs": [
    {
     "data": {
      "image/png": "[encoded data removed]",
      "text/plain": [
       "<Figure size 576x432 with 1 Axes>"
      ]
     },
     "metadata": {
      "needs_background": "light"
     },
     "output_type": "display_data"
    }
   ],
   "source": [
    "c = '#657aff'\n",
    "\n",
    "fig, ax = plt.subplots(figsize=(8,6))\n",
    "ax.axhline(1, color='0.7', linewidth=1)\n",
    "ax.plot(mid_point, ratio, color=c, linewidth=2, path_effects=[pe.Stroke(linewidth=5, foreground='w'), pe.Normal()])\n",
    "ax.plot(mid_point, ratio, 'o', color=c)\n",
    "\n",
    "ax.annotate(\" Conforms with Uniform Dist \", (3000000, 1.00), fontsize=11, color='0.3', ha='center', va='center', bbox={'facecolor':'w', 'edgecolor':'w'})\n",
    "ax.annotate(\"Skews to the left\", (3000000, 1.05), fontsize=11, color='0.3', ha='center', va='center')\n",
    "ax.annotate(\"Skews to the right\", (3000000, 0.95), fontsize=11, color='0.3', ha='center', va='center')\n",
    "\n",
    "ax.annotate(\"Income Bracket [500k, 750k]\", xy=(630000, 0.85), xytext=(350000, 0.78), \n",
    "            ha='center', color='0.4', weight='bold',\n",
    "            arrowprops={\"arrowstyle\":\"->\", \"color\":'0.4', \"linewidth\":2}\n",
    "           )\n",
    "\n",
    "ax.set_xscale('log')\n",
    "ax.set_xlabel('Income Bracket Midpoint (THB)')\n",
    "ax.set_ylabel('Mean-to-Midpoint Ratio', rotation=0, ha='left', position=(0,1.05))\n",
    "\n",
    "plt.title(\"Uniform Distribution doesn't fit well from Income Bracket of 500,000 onwards\", fontsize=16, y=1.12)\n",
    "\n",
    "plt.show()\n",
    "fig.savefig('output/skewness.jpg', bbox_inches='tight', dpi=300)"
   ]
  },
  {
   "cell_type": "markdown",
   "metadata": {},
   "source": [
    "The skewness appears to begin at the income bracket [500k, 750k]"
   ]
  },
  {
   "cell_type": "markdown",
   "metadata": {},
   "source": [
    "#### Fitting Pareto Distribution"
   ]
  },
  {
   "cell_type": "code",
   "execution_count": 697,
   "metadata": {},
   "outputs": [],
   "source": [
    "pareto_threshold = 500000\n",
    "high_income_data = fin_data.query('Income_LB >= @pareto_threshold')\n",
    "low_income_data = fin_data.query('Income_LB < @pareto_threshold')\n",
    "S = np.array(1.00 - high_income_data['CumN'])[:-1]  # Remove the unbounded bracket (last row) since LOG(0) is undefined.\n",
    "logS = np.log(S)\n",
    "logX = np.log(np.array(high_income_data['AvgIncome']))[:-1]"
   ]
  },
  {
   "cell_type": "code",
   "execution_count": 698,
   "metadata": {},
   "outputs": [
    {
     "name": "stdout",
     "output_type": "stream",
     "text": [
      "The estimate of alpha is 1.8341\n"
     ]
    }
   ],
   "source": [
    "reg = LinearRegression(fit_intercept=True).fit(logX.reshape(-1,1), logS)\n",
    "alpha = -reg.coef_[0]\n",
    "print('The estimate of alpha is %.4f' % alpha)"
   ]
  },
  {
   "cell_type": "code",
   "execution_count": 699,
   "metadata": {},
   "outputs": [],
   "source": [
    "# Prepare the fitted lines data\n",
    "fit_X = np.linspace(np.min(logX)*0.995, np.max(logX)*1.005, 100)\n",
    "fit_Y = reg.predict(fit_X.reshape(-1,1))"
   ]
  },
  {
   "cell_type": "code",
   "execution_count": 700,
   "metadata": {},
   "outputs": [
    {
     "data": {
      "image/png": "[encoded data removed]",
      "text/plain": [
       "<Figure size 576x432 with 1 Axes>"
      ]
     },
     "metadata": {
      "needs_background": "light"
     },
     "output_type": "display_data"
    }
   ],
   "source": [
    "c = '#657aff'\n",
    "\n",
    "fig, ax = plt.subplots(figsize=(8,6))\n",
    "ax.plot(high_income_data['AvgIncome'], 1-high_income_data['CumN'], 'o', color=c)\n",
    "ax.plot(np.exp(fit_X), np.exp(fit_Y), color=c, linestyle='--', alpha=0.5)\n",
    "\n",
    "ax.set_xscale('log')\n",
    "ax.set_yscale('log')\n",
    "\n",
    "ax.set_xlabel('Income Bracket (THB)')\n",
    "ax.set_ylabel('Top x% of Population', rotation=0, ha='left', position=(0,1))\n",
    "\n",
    "\n",
    "ax.yaxis.set_major_formatter(ticker.PercentFormatter(xmax=1))\n",
    "\n",
    "plt.show()"
   ]
  },
  {
   "cell_type": "markdown",
   "metadata": {},
   "source": [
    "* Sense Check\n",
    "\n",
    "Expected value of a Pareto distribution with support from $[x_m, \\infty)$ is $\\frac{\\alpha x_m}{\\alpha-1}$.\n",
    "\n",
    "Here $x_m$ is chosen to be 500,000.\n",
    "\n",
    "The fitted mean is"
   ]
  },
  {
   "cell_type": "code",
   "execution_count": 605,
   "metadata": {},
   "outputs": [
    {
     "name": "stdout",
     "output_type": "stream",
     "text": [
      "1099420\n"
     ]
    }
   ],
   "source": [
    "print('%i' %(alpha / (alpha - 1) * 500000))"
   ]
  },
  {
   "cell_type": "markdown",
   "metadata": {},
   "source": [
    "However, the sample mean is"
   ]
  },
  {
   "cell_type": "code",
   "execution_count": 606,
   "metadata": {},
   "outputs": [
    {
     "name": "stdout",
     "output_type": "stream",
     "text": [
      "1132048\n"
     ]
    }
   ],
   "source": [
    "print('%i' % int(np.sum(high_income_data['TotIncome']) / np.sum(high_income_data['N'])))"
   ]
  },
  {
   "cell_type": "markdown",
   "metadata": {},
   "source": [
    "If we exclude the last income bracket which is unbounded, the sample mean is"
   ]
  },
  {
   "cell_type": "code",
   "execution_count": 607,
   "metadata": {},
   "outputs": [
    {
     "name": "stdout",
     "output_type": "stream",
     "text": [
      "1088572\n"
     ]
    }
   ],
   "source": [
    "print('%i' % int(np.sum(np.array(high_income_data['TotIncome'])[:-1]) / np.sum(np.array(high_income_data['N'])[:-1])))"
   ]
  },
  {
   "cell_type": "markdown",
   "metadata": {},
   "source": [
    "Which is closer to our fitted mean."
   ]
  },
  {
   "cell_type": "markdown",
   "metadata": {},
   "source": [
    "## Full Distribution"
   ]
  },
  {
   "cell_type": "code",
   "execution_count": 652,
   "metadata": {
    "scrolled": true
   },
   "outputs": [],
   "source": [
    "border_CDF = np.array(high_income_data['CumN_prev'])[0]"
   ]
  },
  {
   "cell_type": "code",
   "execution_count": 649,
   "metadata": {},
   "outputs": [],
   "source": [
    "def findPercentile(annual):\n",
    "    # Corner Cases\n",
    "    if annual <= 0:\n",
    "        return None\n",
    "    elif annual >= pareto_threshold:\n",
    "        # Apply Pareto Distribution\n",
    "        if annual > 1000000000:\n",
    "            annual == 1000000000\n",
    "        return border_CDF + (1 - border_CDF) * (1 - (pareto_threshold / annual) ** alpha)\n",
    "    else:\n",
    "        # Linear Interpolation within the corresponding Income Bracket\n",
    "        return linearInt(annual)\n",
    "    \n",
    "def linearInt(annual):\n",
    "    filter_data = low_income_data.query('Income_LB < @annual & Income_UB >= @annual').to_dict('list')\n",
    "    lb = filter_data['Income_LB'][0]\n",
    "    ub = filter_data['Income_UB'][0]\n",
    "    lb_cdf = filter_data['CumN_prev'][0]\n",
    "    ub_cdf = filter_data['CumN'][0]\n",
    "    return lb_cdf + (annual - lb) / (ub - lb) * (ub_cdf - lb_cdf)"
   ]
  },
  {
   "cell_type": "code",
   "execution_count": 671,
   "metadata": {},
   "outputs": [],
   "source": [
    "income_range = np.logspace(3, 9, 1000)\n",
    "income_CDF = np.array([findPercentile(income) for income in income_range])"
   ]
  },
  {
   "cell_type": "markdown",
   "metadata": {},
   "source": [
    "#### Cumulative Distribution Function"
   ]
  },
  {
   "cell_type": "code",
   "execution_count": 706,
   "metadata": {
    "scrolled": true
   },
   "outputs": [
    {
     "data": {
      "image/png": "[encoded data removed]",
      "text/plain": [
       "<Figure size 432x288 with 1 Axes>"
      ]
     },
     "metadata": {
      "needs_background": "light"
     },
     "output_type": "display_data"
    }
   ],
   "source": [
    "fig, ax = plt.subplots()\n",
    "ax.plot(income_range, income_CDF)\n",
    "ax.set_xscale('log')\n",
    "ax.set_yscale('linear')\n",
    "plt.show()"
   ]
  },
  {
   "cell_type": "markdown",
   "metadata": {},
   "source": [
    "## Income Share Calculation\n",
    "\n",
    "Below the Pareto threshold,\n",
    "\n",
    "- Add the cumulative share from the previous bracket\n",
    "\n",
    "- "
   ]
  },
  {
   "cell_type": "code",
   "execution_count": 631,
   "metadata": {},
   "outputs": [],
   "source": []
  },
  {
   "cell_type": "markdown",
   "metadata": {},
   "source": [
    "#### Bounded Pareto - Estimating the Maximum Income for the unbounded bracket\n",
    "\n",
    "Pareto distribution has a general property that conditional distribution of value above a threshold $x_n > x_m$ has the expected value of $\\frac{\\alpha x_n}{\\alpha-1}$.\n",
    "\n",
    "We can check for the fitted mean above 20mil (the unbounded bracket) to be:"
   ]
  },
  {
   "cell_type": "code",
   "execution_count": 481,
   "metadata": {},
   "outputs": [
    {
     "name": "stdout",
     "output_type": "stream",
     "text": [
      "43976832\n"
     ]
    }
   ],
   "source": [
    "print('%i' %(alpha / (alpha - 1) * 20000000))"
   ]
  },
  {
   "cell_type": "markdown",
   "metadata": {},
   "source": [
    "The observed mean on this unbounded bracket is:"
   ]
  },
  {
   "cell_type": "code",
   "execution_count": 483,
   "metadata": {},
   "outputs": [
    {
     "name": "stdout",
     "output_type": "stream",
     "text": [
      "43093652\n"
     ]
    }
   ],
   "source": [
    "print('%i' % np.array(high_income_data['AvgIncome'])[-1])\n"
   ]
  },
  {
   "cell_type": "code",
   "execution_count": 485,
   "metadata": {},
   "outputs": [
    {
     "data": {
      "text/plain": [
       "19598342.835707944"
      ]
     },
     "execution_count": 485,
     "metadata": {},
     "output_type": "execute_result"
    }
   ],
   "source": [
    "43093652 / (alpha / (alpha - 1))"
   ]
  },
  {
   "cell_type": "code",
   "execution_count": 496,
   "metadata": {},
   "outputs": [
    {
     "data": {
      "text/plain": [
       "1440000"
      ]
     },
     "execution_count": 496,
     "metadata": {},
     "output_type": "execute_result"
    }
   ],
   "source": [
    "120000 * 12"
   ]
  },
  {
   "cell_type": "code",
   "execution_count": 513,
   "metadata": {},
   "outputs": [
    {
     "data": {
      "text/plain": [
       "0.9999999047226102"
      ]
     },
     "execution_count": 513,
     "metadata": {},
     "output_type": "execute_result"
    }
   ],
   "source": [
    "border_CDF + (1 - border_CDF) * (1 - (500000 / 1100000000) ** alpha)"
   ]
  },
  {
   "cell_type": "code",
   "execution_count": 520,
   "metadata": {},
   "outputs": [
    {
     "data": {
      "text/plain": [
       "0.98772220878183"
      ]
     },
     "execution_count": 520,
     "metadata": {},
     "output_type": "execute_result"
    }
   ],
   "source": [
    "border_CDF + (1 - border_CDF) * (1 - (500000 / 1800000) ** alpha)"
   ]
  },
  {
   "cell_type": "code",
   "execution_count": 517,
   "metadata": {},
   "outputs": [
    {
     "data": {
      "text/plain": [
       "1.261065273605374"
      ]
     },
     "execution_count": 517,
     "metadata": {},
     "output_type": "execute_result"
    }
   ],
   "source": [
    "np.sum(fin_data['N']) * (1- 0.9999998865224974)"
   ]
  },
  {
   "cell_type": "code",
   "execution_count": 503,
   "metadata": {},
   "outputs": [
    {
     "data": {
      "text/plain": [
       "0.9999999100145687"
      ]
     },
     "execution_count": 503,
     "metadata": {},
     "output_type": "execute_result"
    }
   ],
   "source": [
    "1 - 1 / np.sum(fin_data['N'])"
   ]
  },
  {
   "cell_type": "code",
   "execution_count": 521,
   "metadata": {},
   "outputs": [
    {
     "data": {
      "text/plain": [
       "136441.98880631317"
      ]
     },
     "execution_count": 521,
     "metadata": {},
     "output_type": "execute_result"
    }
   ],
   "source": [
    "np.sum(fin_data['N']) * (1 - 0.98772220878183)"
   ]
  },
  {
   "cell_type": "code",
   "execution_count": 519,
   "metadata": {},
   "outputs": [
    {
     "data": {
      "text/plain": [
       "1800000"
      ]
     },
     "execution_count": 519,
     "metadata": {},
     "output_type": "execute_result"
    }
   ],
   "source": [
    "150000*12"
   ]
  },
  {
   "cell_type": "code",
   "execution_count": null,
   "metadata": {},
   "outputs": [],
   "source": []
  }
 ],
 "metadata": {
  "kernelspec": {
   "display_name": "Python 3",
   "language": "python",
   "name": "python3"
  },
  "language_info": {
   "codemirror_mode": {
    "name": "ipython",
    "version": 3
   },
   "file_extension": ".py",
   "mimetype": "text/x-python",
   "name": "python",
   "nbconvert_exporter": "python",
   "pygments_lexer": "ipython3",
   "version": "3.8.5"
  }
 },
 "nbformat": 4,
 "nbformat_minor": 4
}
